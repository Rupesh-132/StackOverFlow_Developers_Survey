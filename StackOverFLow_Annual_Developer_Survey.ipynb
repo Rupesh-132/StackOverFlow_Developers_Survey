{
 "cells": [
  {
   "cell_type": "markdown",
   "id": "42166b76",
   "metadata": {},
   "source": [
    "### About Dataset"
   ]
  },
  {
   "cell_type": "markdown",
   "id": "6d6cd479",
   "metadata": {},
   "source": [
    "<span style='color:Green'>- In May 2022 over 70,000 developers told StackOverflow how they learn and level up, which tools they’re using, and what they want.\n",
    "</span>\n"
   ]
  },
  {
   "cell_type": "markdown",
   "id": "97785d0b",
   "metadata": {},
   "source": [
    "#### Survey focused on below topics:\n",
    "1. <span style = 'color: Blue'>Developer Profile / Respondent's profile:</span>\n",
    " - Education.\n",
    " - Learning to code.\n",
    " - Experience.\n",
    " - Developer roles.\n",
    " - Key territories.\n",
    " - Demographics.\n",
    "    \n"
   ]
  },
  {
   "cell_type": "markdown",
   "id": "3512e4cd",
   "metadata": {},
   "source": [
    "2. <span style = 'color: Blue'>Technology:</span>\n",
    " - Tools and technologies developers are currently using and what they want to use.\n",
    "3. <span style = 'color: Blue'>Work:</span>\n",
    " - Respondent's employment, company info, salary, influence, hobby etc.\n",
    "4. <span style = 'color: Blue'>Community:</span>\n",
    " - How people use Stack Overflow and how connected they feel to the StackOverflow community.\n",
    "5. <span style = 'color: Blue'>Professional Developers:</span>\n",
    " - Respondent's Work lifestyle, work experience etc.\n",
    "6. <span style = 'color: Blue'>Methodology:</span>\n",
    " - Feedback on survey.\n",
    "\n"
   ]
  },
  {
   "cell_type": "markdown",
   "id": "25e1dff9",
   "metadata": {},
   "source": [
    "### The Future of Software Industry\n",
    " The software development industry is fundamentally dynamic, and has seen several changes since the beginning of the century.\n",
    " As 2022 is now here, tech personnel and firms must take note of the new trends in the software productivity space and adjust    accordingly to meet the growing expectations of the market. The future is uncertain, and if we have learned anything from the past several months is the value of being prepared for the unexpected. There are key trends especially in the areas of remote working, cloud computing, artificial intelligence, cybersecurity and outsourcing that must be considered. \n"
   ]
  },
  {
   "cell_type": "markdown",
   "id": "1306f14a",
   "metadata": {},
   "source": [
    "You would think that we might have developed enough software by now. It appears not. There is still massive growth in the software industry and tech analysts are spending even more time trying to fashion their predictions for and of the road ahead. So in what direction is the software industry heading, lets have a look through the Stack Overflow 2019 Developer Survey Results."
   ]
  },
  {
   "cell_type": "markdown",
   "id": "5c3bc003",
   "metadata": {},
   "source": [
    "### Why I chose stackoverflow to analyse the survey on developers in software industry?\n",
    "Every person who is interested in software develpment,coding or any field related to software industry must be aware of this famous website (Stackoverflow). This website is a hub of brilliant developers community that helps developers in every possible way from writing \"hello world \" to handling errors encountered while working on projects. Developers from all over the world come here to learn, grow and help each other. So, this website seems perfect for analysing the developers and how they impact the software industry."
   ]
  },
  {
   "cell_type": "code",
   "execution_count": 1,
   "id": "581d72db",
   "metadata": {},
   "outputs": [],
   "source": [
    "import numpy as np\n",
    "import pandas as pd\n",
    "import seaborn as sns\n",
    "import matplotlib.pyplot as plt\n",
    "%matplotlib inline\n",
    "import warnings\n",
    "warnings.filterwarnings(\"ignore\")\n"
   ]
  },
  {
   "cell_type": "markdown",
   "id": "dc8e5504",
   "metadata": {},
   "source": [
    "- Numpy and Pandas library are used to work with the dataset\n",
    "- Seaborn and Matplotlib is used for data visualization"
   ]
  },
  {
   "cell_type": "markdown",
   "id": "c2a10635",
   "metadata": {},
   "source": [
    "#### Throughout this project ,I will try to find out the answer to the following questions.\n",
    "<span style =\"color:blue\"> Questions!</span>\n"
   ]
  },
  {
   "cell_type": "markdown",
   "id": "47ea935c",
   "metadata": {},
   "source": [
    "- Count the total numbers of Developers who are contributing to opensource?\n",
    "- How much money do the Developers get throughout the globe?\n",
    "- How much are the Developers satisfied with their jobs throughout the globe?\n",
    "- Visualize the distribution of age of the developers?\n",
    "- What are the social media sites that the developers use?\n",
    "- Which is the most popular Operating System among the Developers?\n",
    "- Why do most of the Developers update their RESUME frequently?\n",
    "- What are the platforms that the Developers had used extensively and what platforms do they want to use in future?\n",
    "- What are the programming languages that the Developers had worked with and what languages do they want to use in future?\n",
    "- What are the Database Servers that the Developers use to while coding and what Database Servers they want to use in future?\n",
    "- What are the WebFrames that the Developers use and what WebFrame they want to use in future?\n",
    "- Which type of work location is preferred by the Developers?"
   ]
  },
  {
   "cell_type": "code",
   "execution_count": 2,
   "id": "018d5a51",
   "metadata": {},
   "outputs": [
    {
     "data": {
      "text/html": [
       "<div>\n",
       "<style scoped>\n",
       "    .dataframe tbody tr th:only-of-type {\n",
       "        vertical-align: middle;\n",
       "    }\n",
       "\n",
       "    .dataframe tbody tr th {\n",
       "        vertical-align: top;\n",
       "    }\n",
       "\n",
       "    .dataframe thead th {\n",
       "        text-align: right;\n",
       "    }\n",
       "</style>\n",
       "<table border=\"1\" class=\"dataframe\">\n",
       "  <thead>\n",
       "    <tr style=\"text-align: right;\">\n",
       "      <th></th>\n",
       "      <th>MainBranch</th>\n",
       "      <th>Unnamed: 1</th>\n",
       "      <th>OpenSourcer</th>\n",
       "      <th>Country</th>\n",
       "      <th>CareerSat</th>\n",
       "      <th>ResumeUpdate</th>\n",
       "      <th>ConvertedComp</th>\n",
       "      <th>WorkWeekHrs</th>\n",
       "      <th>WorkLoc</th>\n",
       "      <th>LanguageWorkedWith</th>\n",
       "      <th>...</th>\n",
       "      <th>DatabaseWorkedWith</th>\n",
       "      <th>DatabaseDesireNextYear</th>\n",
       "      <th>PlatformWorkedWith</th>\n",
       "      <th>PlatformDesireNextYear</th>\n",
       "      <th>WebFrameWorkedWith</th>\n",
       "      <th>WebFrameDesireNextYear</th>\n",
       "      <th>OpSys</th>\n",
       "      <th>SocialMedia</th>\n",
       "      <th>Age</th>\n",
       "      <th>Gender</th>\n",
       "    </tr>\n",
       "  </thead>\n",
       "  <tbody>\n",
       "    <tr>\n",
       "      <th>0</th>\n",
       "      <td>I am a student who is learning to code</td>\n",
       "      <td>NaN</td>\n",
       "      <td>Never</td>\n",
       "      <td>United Kingdom</td>\n",
       "      <td>NaN</td>\n",
       "      <td>NaN</td>\n",
       "      <td>NaN</td>\n",
       "      <td>NaN</td>\n",
       "      <td>NaN</td>\n",
       "      <td>HTML/CSS;Java;JavaScript;Python</td>\n",
       "      <td>...</td>\n",
       "      <td>SQLite</td>\n",
       "      <td>MySQL</td>\n",
       "      <td>MacOS;Windows</td>\n",
       "      <td>Android;Arduino;Windows</td>\n",
       "      <td>Django;Flask</td>\n",
       "      <td>Flask;jQuery</td>\n",
       "      <td>Windows</td>\n",
       "      <td>Twitter</td>\n",
       "      <td>14.0</td>\n",
       "      <td>Man</td>\n",
       "    </tr>\n",
       "    <tr>\n",
       "      <th>1</th>\n",
       "      <td>I am a student who is learning to code</td>\n",
       "      <td>NaN</td>\n",
       "      <td>Less than once per year</td>\n",
       "      <td>Bosnia and Herzegovina</td>\n",
       "      <td>NaN</td>\n",
       "      <td>Something else changed (education, award, medi...</td>\n",
       "      <td>NaN</td>\n",
       "      <td>NaN</td>\n",
       "      <td>NaN</td>\n",
       "      <td>C++;HTML/CSS;Python</td>\n",
       "      <td>...</td>\n",
       "      <td>NaN</td>\n",
       "      <td>MySQL</td>\n",
       "      <td>Windows</td>\n",
       "      <td>Windows</td>\n",
       "      <td>Django</td>\n",
       "      <td>Django</td>\n",
       "      <td>Windows</td>\n",
       "      <td>Instagram</td>\n",
       "      <td>19.0</td>\n",
       "      <td>Man</td>\n",
       "    </tr>\n",
       "    <tr>\n",
       "      <th>2</th>\n",
       "      <td>I am not primarily a developer, but I write co...</td>\n",
       "      <td>NaN</td>\n",
       "      <td>Never</td>\n",
       "      <td>Thailand</td>\n",
       "      <td>Slightly satisfied</td>\n",
       "      <td>I was preparing for a job search</td>\n",
       "      <td>8820.0</td>\n",
       "      <td>40.0</td>\n",
       "      <td>Home</td>\n",
       "      <td>HTML/CSS</td>\n",
       "      <td>...</td>\n",
       "      <td>PostgreSQL</td>\n",
       "      <td>PostgreSQL</td>\n",
       "      <td>NaN</td>\n",
       "      <td>NaN</td>\n",
       "      <td>NaN</td>\n",
       "      <td>Other(s):</td>\n",
       "      <td>Linux-based</td>\n",
       "      <td>Reddit</td>\n",
       "      <td>28.0</td>\n",
       "      <td>Man</td>\n",
       "    </tr>\n",
       "    <tr>\n",
       "      <th>3</th>\n",
       "      <td>I am a developer by profession</td>\n",
       "      <td>NaN</td>\n",
       "      <td>Never</td>\n",
       "      <td>United States</td>\n",
       "      <td>Very satisfied</td>\n",
       "      <td>I was preparing for a job search</td>\n",
       "      <td>61000.0</td>\n",
       "      <td>80.0</td>\n",
       "      <td>Home</td>\n",
       "      <td>C;C++;C#;Python;SQL</td>\n",
       "      <td>...</td>\n",
       "      <td>MySQL;SQLite</td>\n",
       "      <td>MySQL;SQLite</td>\n",
       "      <td>Linux;Windows</td>\n",
       "      <td>Linux;Windows</td>\n",
       "      <td>NaN</td>\n",
       "      <td>NaN</td>\n",
       "      <td>Windows</td>\n",
       "      <td>Reddit</td>\n",
       "      <td>22.0</td>\n",
       "      <td>Man</td>\n",
       "    </tr>\n",
       "    <tr>\n",
       "      <th>4</th>\n",
       "      <td>I am a developer by profession</td>\n",
       "      <td>NaN</td>\n",
       "      <td>Once a month or more often</td>\n",
       "      <td>Ukraine</td>\n",
       "      <td>Very dissatisfied</td>\n",
       "      <td>I was preparing for a job search</td>\n",
       "      <td>NaN</td>\n",
       "      <td>55.0</td>\n",
       "      <td>Office</td>\n",
       "      <td>C++;HTML/CSS;Java;JavaScript;Python;SQL;VBA</td>\n",
       "      <td>...</td>\n",
       "      <td>Couchbase;MongoDB;MySQL;Oracle;PostgreSQL;SQLite</td>\n",
       "      <td>Couchbase;Firebase;MongoDB;MySQL;Oracle;Postgr...</td>\n",
       "      <td>Android;Linux;MacOS;Slack;Windows</td>\n",
       "      <td>Android;Docker;Kubernetes;Linux;Slack</td>\n",
       "      <td>Django;Express;Flask;jQuery;React.js;Spring</td>\n",
       "      <td>Flask;jQuery;React.js;Spring</td>\n",
       "      <td>Linux-based</td>\n",
       "      <td>Facebook</td>\n",
       "      <td>30.0</td>\n",
       "      <td>Man</td>\n",
       "    </tr>\n",
       "  </tbody>\n",
       "</table>\n",
       "<p>5 rows × 21 columns</p>\n",
       "</div>"
      ],
      "text/plain": [
       "                                          MainBranch  Unnamed: 1  \\\n",
       "0             I am a student who is learning to code         NaN   \n",
       "1             I am a student who is learning to code         NaN   \n",
       "2  I am not primarily a developer, but I write co...         NaN   \n",
       "3                     I am a developer by profession         NaN   \n",
       "4                     I am a developer by profession         NaN   \n",
       "\n",
       "                  OpenSourcer                 Country           CareerSat  \\\n",
       "0                       Never          United Kingdom                 NaN   \n",
       "1     Less than once per year  Bosnia and Herzegovina                 NaN   \n",
       "2                       Never                Thailand  Slightly satisfied   \n",
       "3                       Never           United States      Very satisfied   \n",
       "4  Once a month or more often                 Ukraine   Very dissatisfied   \n",
       "\n",
       "                                        ResumeUpdate  ConvertedComp  \\\n",
       "0                                                NaN            NaN   \n",
       "1  Something else changed (education, award, medi...            NaN   \n",
       "2                   I was preparing for a job search         8820.0   \n",
       "3                   I was preparing for a job search        61000.0   \n",
       "4                   I was preparing for a job search            NaN   \n",
       "\n",
       "   WorkWeekHrs WorkLoc                           LanguageWorkedWith  ...  \\\n",
       "0          NaN     NaN              HTML/CSS;Java;JavaScript;Python  ...   \n",
       "1          NaN     NaN                          C++;HTML/CSS;Python  ...   \n",
       "2         40.0    Home                                     HTML/CSS  ...   \n",
       "3         80.0    Home                          C;C++;C#;Python;SQL  ...   \n",
       "4         55.0  Office  C++;HTML/CSS;Java;JavaScript;Python;SQL;VBA  ...   \n",
       "\n",
       "                                 DatabaseWorkedWith  \\\n",
       "0                                            SQLite   \n",
       "1                                               NaN   \n",
       "2                                        PostgreSQL   \n",
       "3                                      MySQL;SQLite   \n",
       "4  Couchbase;MongoDB;MySQL;Oracle;PostgreSQL;SQLite   \n",
       "\n",
       "                              DatabaseDesireNextYear  \\\n",
       "0                                              MySQL   \n",
       "1                                              MySQL   \n",
       "2                                         PostgreSQL   \n",
       "3                                       MySQL;SQLite   \n",
       "4  Couchbase;Firebase;MongoDB;MySQL;Oracle;Postgr...   \n",
       "\n",
       "                  PlatformWorkedWith                 PlatformDesireNextYear  \\\n",
       "0                      MacOS;Windows                Android;Arduino;Windows   \n",
       "1                            Windows                                Windows   \n",
       "2                                NaN                                    NaN   \n",
       "3                      Linux;Windows                          Linux;Windows   \n",
       "4  Android;Linux;MacOS;Slack;Windows  Android;Docker;Kubernetes;Linux;Slack   \n",
       "\n",
       "                            WebFrameWorkedWith        WebFrameDesireNextYear  \\\n",
       "0                                 Django;Flask                  Flask;jQuery   \n",
       "1                                       Django                        Django   \n",
       "2                                          NaN                     Other(s):   \n",
       "3                                          NaN                           NaN   \n",
       "4  Django;Express;Flask;jQuery;React.js;Spring  Flask;jQuery;React.js;Spring   \n",
       "\n",
       "         OpSys SocialMedia   Age  Gender  \n",
       "0      Windows     Twitter  14.0     Man  \n",
       "1      Windows   Instagram  19.0     Man  \n",
       "2  Linux-based      Reddit  28.0     Man  \n",
       "3      Windows      Reddit  22.0     Man  \n",
       "4  Linux-based    Facebook  30.0     Man  \n",
       "\n",
       "[5 rows x 21 columns]"
      ]
     },
     "execution_count": 2,
     "metadata": {},
     "output_type": "execute_result"
    }
   ],
   "source": [
    "# Reading the csv file\n",
    "import pandas as pd\n",
    "df = pd.read_csv(\"survey_results_public.csv\")\n",
    "df.head()"
   ]
  },
  {
   "cell_type": "code",
   "execution_count": 3,
   "id": "bc2c1da1",
   "metadata": {},
   "outputs": [
    {
     "data": {
      "text/html": [
       "<div>\n",
       "<style scoped>\n",
       "    .dataframe tbody tr th:only-of-type {\n",
       "        vertical-align: middle;\n",
       "    }\n",
       "\n",
       "    .dataframe tbody tr th {\n",
       "        vertical-align: top;\n",
       "    }\n",
       "\n",
       "    .dataframe thead th {\n",
       "        text-align: right;\n",
       "    }\n",
       "</style>\n",
       "<table border=\"1\" class=\"dataframe\">\n",
       "  <thead>\n",
       "    <tr style=\"text-align: right;\">\n",
       "      <th></th>\n",
       "      <th>MainBranch</th>\n",
       "      <th>Unnamed: 1</th>\n",
       "      <th>OpenSourcer</th>\n",
       "      <th>Country</th>\n",
       "      <th>CareerSat</th>\n",
       "      <th>ResumeUpdate</th>\n",
       "      <th>ConvertedComp</th>\n",
       "      <th>WorkWeekHrs</th>\n",
       "      <th>WorkLoc</th>\n",
       "      <th>LanguageWorkedWith</th>\n",
       "      <th>...</th>\n",
       "      <th>DatabaseWorkedWith</th>\n",
       "      <th>DatabaseDesireNextYear</th>\n",
       "      <th>PlatformWorkedWith</th>\n",
       "      <th>PlatformDesireNextYear</th>\n",
       "      <th>WebFrameWorkedWith</th>\n",
       "      <th>WebFrameDesireNextYear</th>\n",
       "      <th>OpSys</th>\n",
       "      <th>SocialMedia</th>\n",
       "      <th>Age</th>\n",
       "      <th>Gender</th>\n",
       "    </tr>\n",
       "  </thead>\n",
       "  <tbody>\n",
       "    <tr>\n",
       "      <th>0</th>\n",
       "      <td>I am a student who is learning to code</td>\n",
       "      <td>NaN</td>\n",
       "      <td>Never</td>\n",
       "      <td>United Kingdom</td>\n",
       "      <td>NaN</td>\n",
       "      <td>NaN</td>\n",
       "      <td>NaN</td>\n",
       "      <td>NaN</td>\n",
       "      <td>NaN</td>\n",
       "      <td>HTML/CSS;Java;JavaScript;Python</td>\n",
       "      <td>...</td>\n",
       "      <td>SQLite</td>\n",
       "      <td>MySQL</td>\n",
       "      <td>MacOS;Windows</td>\n",
       "      <td>Android;Arduino;Windows</td>\n",
       "      <td>Django;Flask</td>\n",
       "      <td>Flask;jQuery</td>\n",
       "      <td>Windows</td>\n",
       "      <td>Twitter</td>\n",
       "      <td>14.0</td>\n",
       "      <td>Man</td>\n",
       "    </tr>\n",
       "    <tr>\n",
       "      <th>1</th>\n",
       "      <td>I am a student who is learning to code</td>\n",
       "      <td>NaN</td>\n",
       "      <td>Less than once per year</td>\n",
       "      <td>Bosnia and Herzegovina</td>\n",
       "      <td>NaN</td>\n",
       "      <td>Something else changed (education, award, medi...</td>\n",
       "      <td>NaN</td>\n",
       "      <td>NaN</td>\n",
       "      <td>NaN</td>\n",
       "      <td>C++;HTML/CSS;Python</td>\n",
       "      <td>...</td>\n",
       "      <td>NaN</td>\n",
       "      <td>MySQL</td>\n",
       "      <td>Windows</td>\n",
       "      <td>Windows</td>\n",
       "      <td>Django</td>\n",
       "      <td>Django</td>\n",
       "      <td>Windows</td>\n",
       "      <td>Instagram</td>\n",
       "      <td>19.0</td>\n",
       "      <td>Man</td>\n",
       "    </tr>\n",
       "    <tr>\n",
       "      <th>2</th>\n",
       "      <td>I am not primarily a developer, but I write co...</td>\n",
       "      <td>NaN</td>\n",
       "      <td>Never</td>\n",
       "      <td>Thailand</td>\n",
       "      <td>Slightly satisfied</td>\n",
       "      <td>I was preparing for a job search</td>\n",
       "      <td>8820.0</td>\n",
       "      <td>40.0</td>\n",
       "      <td>Home</td>\n",
       "      <td>HTML/CSS</td>\n",
       "      <td>...</td>\n",
       "      <td>PostgreSQL</td>\n",
       "      <td>PostgreSQL</td>\n",
       "      <td>NaN</td>\n",
       "      <td>NaN</td>\n",
       "      <td>NaN</td>\n",
       "      <td>Other(s):</td>\n",
       "      <td>Linux-based</td>\n",
       "      <td>Reddit</td>\n",
       "      <td>28.0</td>\n",
       "      <td>Man</td>\n",
       "    </tr>\n",
       "    <tr>\n",
       "      <th>3</th>\n",
       "      <td>I am a developer by profession</td>\n",
       "      <td>NaN</td>\n",
       "      <td>Never</td>\n",
       "      <td>United States</td>\n",
       "      <td>Very satisfied</td>\n",
       "      <td>I was preparing for a job search</td>\n",
       "      <td>61000.0</td>\n",
       "      <td>80.0</td>\n",
       "      <td>Home</td>\n",
       "      <td>C;C++;C#;Python;SQL</td>\n",
       "      <td>...</td>\n",
       "      <td>MySQL;SQLite</td>\n",
       "      <td>MySQL;SQLite</td>\n",
       "      <td>Linux;Windows</td>\n",
       "      <td>Linux;Windows</td>\n",
       "      <td>NaN</td>\n",
       "      <td>NaN</td>\n",
       "      <td>Windows</td>\n",
       "      <td>Reddit</td>\n",
       "      <td>22.0</td>\n",
       "      <td>Man</td>\n",
       "    </tr>\n",
       "    <tr>\n",
       "      <th>4</th>\n",
       "      <td>I am a developer by profession</td>\n",
       "      <td>NaN</td>\n",
       "      <td>Once a month or more often</td>\n",
       "      <td>Ukraine</td>\n",
       "      <td>Very dissatisfied</td>\n",
       "      <td>I was preparing for a job search</td>\n",
       "      <td>NaN</td>\n",
       "      <td>55.0</td>\n",
       "      <td>Office</td>\n",
       "      <td>C++;HTML/CSS;Java;JavaScript;Python;SQL;VBA</td>\n",
       "      <td>...</td>\n",
       "      <td>Couchbase;MongoDB;MySQL;Oracle;PostgreSQL;SQLite</td>\n",
       "      <td>Couchbase;Firebase;MongoDB;MySQL;Oracle;Postgr...</td>\n",
       "      <td>Android;Linux;MacOS;Slack;Windows</td>\n",
       "      <td>Android;Docker;Kubernetes;Linux;Slack</td>\n",
       "      <td>Django;Express;Flask;jQuery;React.js;Spring</td>\n",
       "      <td>Flask;jQuery;React.js;Spring</td>\n",
       "      <td>Linux-based</td>\n",
       "      <td>Facebook</td>\n",
       "      <td>30.0</td>\n",
       "      <td>Man</td>\n",
       "    </tr>\n",
       "  </tbody>\n",
       "</table>\n",
       "<p>5 rows × 21 columns</p>\n",
       "</div>"
      ],
      "text/plain": [
       "                                          MainBranch  Unnamed: 1  \\\n",
       "0             I am a student who is learning to code         NaN   \n",
       "1             I am a student who is learning to code         NaN   \n",
       "2  I am not primarily a developer, but I write co...         NaN   \n",
       "3                     I am a developer by profession         NaN   \n",
       "4                     I am a developer by profession         NaN   \n",
       "\n",
       "                  OpenSourcer                 Country           CareerSat  \\\n",
       "0                       Never          United Kingdom                 NaN   \n",
       "1     Less than once per year  Bosnia and Herzegovina                 NaN   \n",
       "2                       Never                Thailand  Slightly satisfied   \n",
       "3                       Never           United States      Very satisfied   \n",
       "4  Once a month or more often                 Ukraine   Very dissatisfied   \n",
       "\n",
       "                                        ResumeUpdate  ConvertedComp  \\\n",
       "0                                                NaN            NaN   \n",
       "1  Something else changed (education, award, medi...            NaN   \n",
       "2                   I was preparing for a job search         8820.0   \n",
       "3                   I was preparing for a job search        61000.0   \n",
       "4                   I was preparing for a job search            NaN   \n",
       "\n",
       "   WorkWeekHrs WorkLoc                           LanguageWorkedWith  ...  \\\n",
       "0          NaN     NaN              HTML/CSS;Java;JavaScript;Python  ...   \n",
       "1          NaN     NaN                          C++;HTML/CSS;Python  ...   \n",
       "2         40.0    Home                                     HTML/CSS  ...   \n",
       "3         80.0    Home                          C;C++;C#;Python;SQL  ...   \n",
       "4         55.0  Office  C++;HTML/CSS;Java;JavaScript;Python;SQL;VBA  ...   \n",
       "\n",
       "                                 DatabaseWorkedWith  \\\n",
       "0                                            SQLite   \n",
       "1                                               NaN   \n",
       "2                                        PostgreSQL   \n",
       "3                                      MySQL;SQLite   \n",
       "4  Couchbase;MongoDB;MySQL;Oracle;PostgreSQL;SQLite   \n",
       "\n",
       "                              DatabaseDesireNextYear  \\\n",
       "0                                              MySQL   \n",
       "1                                              MySQL   \n",
       "2                                         PostgreSQL   \n",
       "3                                       MySQL;SQLite   \n",
       "4  Couchbase;Firebase;MongoDB;MySQL;Oracle;Postgr...   \n",
       "\n",
       "                  PlatformWorkedWith                 PlatformDesireNextYear  \\\n",
       "0                      MacOS;Windows                Android;Arduino;Windows   \n",
       "1                            Windows                                Windows   \n",
       "2                                NaN                                    NaN   \n",
       "3                      Linux;Windows                          Linux;Windows   \n",
       "4  Android;Linux;MacOS;Slack;Windows  Android;Docker;Kubernetes;Linux;Slack   \n",
       "\n",
       "                            WebFrameWorkedWith        WebFrameDesireNextYear  \\\n",
       "0                                 Django;Flask                  Flask;jQuery   \n",
       "1                                       Django                        Django   \n",
       "2                                          NaN                     Other(s):   \n",
       "3                                          NaN                           NaN   \n",
       "4  Django;Express;Flask;jQuery;React.js;Spring  Flask;jQuery;React.js;Spring   \n",
       "\n",
       "         OpSys SocialMedia   Age  Gender  \n",
       "0      Windows     Twitter  14.0     Man  \n",
       "1      Windows   Instagram  19.0     Man  \n",
       "2  Linux-based      Reddit  28.0     Man  \n",
       "3      Windows      Reddit  22.0     Man  \n",
       "4  Linux-based    Facebook  30.0     Man  \n",
       "\n",
       "[5 rows x 21 columns]"
      ]
     },
     "execution_count": 3,
     "metadata": {},
     "output_type": "execute_result"
    }
   ],
   "source": [
    "# Reading the top 5 rows of the csv file\n",
    "df.head()"
   ]
  },
  {
   "cell_type": "markdown",
   "id": "8405a553",
   "metadata": {},
   "source": [
    "#### Overview of the columns in the dataset"
   ]
  },
  {
   "cell_type": "code",
   "execution_count": 4,
   "id": "ef14470e",
   "metadata": {},
   "outputs": [
    {
     "data": {
      "text/plain": [
       "Index(['MainBranch', 'Unnamed: 1', 'OpenSourcer', 'Country', 'CareerSat',\n",
       "       'ResumeUpdate', 'ConvertedComp', 'WorkWeekHrs', 'WorkLoc',\n",
       "       'LanguageWorkedWith', 'LanguageDesireNextYear', 'DatabaseWorkedWith',\n",
       "       'DatabaseDesireNextYear', 'PlatformWorkedWith',\n",
       "       'PlatformDesireNextYear', 'WebFrameWorkedWith',\n",
       "       'WebFrameDesireNextYear', 'OpSys', 'SocialMedia', 'Age', 'Gender'],\n",
       "      dtype='object')"
      ]
     },
     "execution_count": 4,
     "metadata": {},
     "output_type": "execute_result"
    }
   ],
   "source": [
    "df.columns"
   ]
  },
  {
   "cell_type": "markdown",
   "id": "d9b04158",
   "metadata": {},
   "source": [
    "<span style=\"color:Green\">There is one column with anonymous column header so its better to drop it.</span>"
   ]
  },
  {
   "cell_type": "code",
   "execution_count": 5,
   "id": "f9c83d14",
   "metadata": {},
   "outputs": [],
   "source": [
    "df.drop(columns={\"Unnamed: 1\"},inplace = True)"
   ]
  },
  {
   "cell_type": "code",
   "execution_count": 6,
   "id": "65745e9f",
   "metadata": {},
   "outputs": [
    {
     "data": {
      "text/html": [
       "<div>\n",
       "<style scoped>\n",
       "    .dataframe tbody tr th:only-of-type {\n",
       "        vertical-align: middle;\n",
       "    }\n",
       "\n",
       "    .dataframe tbody tr th {\n",
       "        vertical-align: top;\n",
       "    }\n",
       "\n",
       "    .dataframe thead th {\n",
       "        text-align: right;\n",
       "    }\n",
       "</style>\n",
       "<table border=\"1\" class=\"dataframe\">\n",
       "  <thead>\n",
       "    <tr style=\"text-align: right;\">\n",
       "      <th></th>\n",
       "      <th>MainBranch</th>\n",
       "      <th>OpenSourcer</th>\n",
       "      <th>Country</th>\n",
       "      <th>CareerSat</th>\n",
       "      <th>ResumeUpdate</th>\n",
       "      <th>ConvertedComp</th>\n",
       "      <th>WorkWeekHrs</th>\n",
       "      <th>WorkLoc</th>\n",
       "      <th>LanguageWorkedWith</th>\n",
       "      <th>LanguageDesireNextYear</th>\n",
       "      <th>DatabaseWorkedWith</th>\n",
       "      <th>DatabaseDesireNextYear</th>\n",
       "      <th>PlatformWorkedWith</th>\n",
       "      <th>PlatformDesireNextYear</th>\n",
       "      <th>WebFrameWorkedWith</th>\n",
       "      <th>WebFrameDesireNextYear</th>\n",
       "      <th>OpSys</th>\n",
       "      <th>SocialMedia</th>\n",
       "      <th>Age</th>\n",
       "      <th>Gender</th>\n",
       "    </tr>\n",
       "  </thead>\n",
       "  <tbody>\n",
       "    <tr>\n",
       "      <th>0</th>\n",
       "      <td>I am a student who is learning to code</td>\n",
       "      <td>Never</td>\n",
       "      <td>United Kingdom</td>\n",
       "      <td>NaN</td>\n",
       "      <td>NaN</td>\n",
       "      <td>NaN</td>\n",
       "      <td>NaN</td>\n",
       "      <td>NaN</td>\n",
       "      <td>HTML/CSS;Java;JavaScript;Python</td>\n",
       "      <td>C;C++;C#;Go;HTML/CSS;Java;JavaScript;Python;SQL</td>\n",
       "      <td>SQLite</td>\n",
       "      <td>MySQL</td>\n",
       "      <td>MacOS;Windows</td>\n",
       "      <td>Android;Arduino;Windows</td>\n",
       "      <td>Django;Flask</td>\n",
       "      <td>Flask;jQuery</td>\n",
       "      <td>Windows</td>\n",
       "      <td>Twitter</td>\n",
       "      <td>14.0</td>\n",
       "      <td>Man</td>\n",
       "    </tr>\n",
       "    <tr>\n",
       "      <th>1</th>\n",
       "      <td>I am a student who is learning to code</td>\n",
       "      <td>Less than once per year</td>\n",
       "      <td>Bosnia and Herzegovina</td>\n",
       "      <td>NaN</td>\n",
       "      <td>Something else changed (education, award, medi...</td>\n",
       "      <td>NaN</td>\n",
       "      <td>NaN</td>\n",
       "      <td>NaN</td>\n",
       "      <td>C++;HTML/CSS;Python</td>\n",
       "      <td>C++;HTML/CSS;JavaScript;SQL</td>\n",
       "      <td>NaN</td>\n",
       "      <td>MySQL</td>\n",
       "      <td>Windows</td>\n",
       "      <td>Windows</td>\n",
       "      <td>Django</td>\n",
       "      <td>Django</td>\n",
       "      <td>Windows</td>\n",
       "      <td>Instagram</td>\n",
       "      <td>19.0</td>\n",
       "      <td>Man</td>\n",
       "    </tr>\n",
       "    <tr>\n",
       "      <th>2</th>\n",
       "      <td>I am not primarily a developer, but I write co...</td>\n",
       "      <td>Never</td>\n",
       "      <td>Thailand</td>\n",
       "      <td>Slightly satisfied</td>\n",
       "      <td>I was preparing for a job search</td>\n",
       "      <td>8820.0</td>\n",
       "      <td>40.0</td>\n",
       "      <td>Home</td>\n",
       "      <td>HTML/CSS</td>\n",
       "      <td>Elixir;HTML/CSS</td>\n",
       "      <td>PostgreSQL</td>\n",
       "      <td>PostgreSQL</td>\n",
       "      <td>NaN</td>\n",
       "      <td>NaN</td>\n",
       "      <td>NaN</td>\n",
       "      <td>Other(s):</td>\n",
       "      <td>Linux-based</td>\n",
       "      <td>Reddit</td>\n",
       "      <td>28.0</td>\n",
       "      <td>Man</td>\n",
       "    </tr>\n",
       "    <tr>\n",
       "      <th>3</th>\n",
       "      <td>I am a developer by profession</td>\n",
       "      <td>Never</td>\n",
       "      <td>United States</td>\n",
       "      <td>Very satisfied</td>\n",
       "      <td>I was preparing for a job search</td>\n",
       "      <td>61000.0</td>\n",
       "      <td>80.0</td>\n",
       "      <td>Home</td>\n",
       "      <td>C;C++;C#;Python;SQL</td>\n",
       "      <td>C;C#;JavaScript;SQL</td>\n",
       "      <td>MySQL;SQLite</td>\n",
       "      <td>MySQL;SQLite</td>\n",
       "      <td>Linux;Windows</td>\n",
       "      <td>Linux;Windows</td>\n",
       "      <td>NaN</td>\n",
       "      <td>NaN</td>\n",
       "      <td>Windows</td>\n",
       "      <td>Reddit</td>\n",
       "      <td>22.0</td>\n",
       "      <td>Man</td>\n",
       "    </tr>\n",
       "    <tr>\n",
       "      <th>4</th>\n",
       "      <td>I am a developer by profession</td>\n",
       "      <td>Once a month or more often</td>\n",
       "      <td>Ukraine</td>\n",
       "      <td>Very dissatisfied</td>\n",
       "      <td>I was preparing for a job search</td>\n",
       "      <td>NaN</td>\n",
       "      <td>55.0</td>\n",
       "      <td>Office</td>\n",
       "      <td>C++;HTML/CSS;Java;JavaScript;Python;SQL;VBA</td>\n",
       "      <td>HTML/CSS;Java;JavaScript;SQL;WebAssembly</td>\n",
       "      <td>Couchbase;MongoDB;MySQL;Oracle;PostgreSQL;SQLite</td>\n",
       "      <td>Couchbase;Firebase;MongoDB;MySQL;Oracle;Postgr...</td>\n",
       "      <td>Android;Linux;MacOS;Slack;Windows</td>\n",
       "      <td>Android;Docker;Kubernetes;Linux;Slack</td>\n",
       "      <td>Django;Express;Flask;jQuery;React.js;Spring</td>\n",
       "      <td>Flask;jQuery;React.js;Spring</td>\n",
       "      <td>Linux-based</td>\n",
       "      <td>Facebook</td>\n",
       "      <td>30.0</td>\n",
       "      <td>Man</td>\n",
       "    </tr>\n",
       "  </tbody>\n",
       "</table>\n",
       "</div>"
      ],
      "text/plain": [
       "                                          MainBranch  \\\n",
       "0             I am a student who is learning to code   \n",
       "1             I am a student who is learning to code   \n",
       "2  I am not primarily a developer, but I write co...   \n",
       "3                     I am a developer by profession   \n",
       "4                     I am a developer by profession   \n",
       "\n",
       "                  OpenSourcer                 Country           CareerSat  \\\n",
       "0                       Never          United Kingdom                 NaN   \n",
       "1     Less than once per year  Bosnia and Herzegovina                 NaN   \n",
       "2                       Never                Thailand  Slightly satisfied   \n",
       "3                       Never           United States      Very satisfied   \n",
       "4  Once a month or more often                 Ukraine   Very dissatisfied   \n",
       "\n",
       "                                        ResumeUpdate  ConvertedComp  \\\n",
       "0                                                NaN            NaN   \n",
       "1  Something else changed (education, award, medi...            NaN   \n",
       "2                   I was preparing for a job search         8820.0   \n",
       "3                   I was preparing for a job search        61000.0   \n",
       "4                   I was preparing for a job search            NaN   \n",
       "\n",
       "   WorkWeekHrs WorkLoc                           LanguageWorkedWith  \\\n",
       "0          NaN     NaN              HTML/CSS;Java;JavaScript;Python   \n",
       "1          NaN     NaN                          C++;HTML/CSS;Python   \n",
       "2         40.0    Home                                     HTML/CSS   \n",
       "3         80.0    Home                          C;C++;C#;Python;SQL   \n",
       "4         55.0  Office  C++;HTML/CSS;Java;JavaScript;Python;SQL;VBA   \n",
       "\n",
       "                            LanguageDesireNextYear  \\\n",
       "0  C;C++;C#;Go;HTML/CSS;Java;JavaScript;Python;SQL   \n",
       "1                      C++;HTML/CSS;JavaScript;SQL   \n",
       "2                                  Elixir;HTML/CSS   \n",
       "3                              C;C#;JavaScript;SQL   \n",
       "4         HTML/CSS;Java;JavaScript;SQL;WebAssembly   \n",
       "\n",
       "                                 DatabaseWorkedWith  \\\n",
       "0                                            SQLite   \n",
       "1                                               NaN   \n",
       "2                                        PostgreSQL   \n",
       "3                                      MySQL;SQLite   \n",
       "4  Couchbase;MongoDB;MySQL;Oracle;PostgreSQL;SQLite   \n",
       "\n",
       "                              DatabaseDesireNextYear  \\\n",
       "0                                              MySQL   \n",
       "1                                              MySQL   \n",
       "2                                         PostgreSQL   \n",
       "3                                       MySQL;SQLite   \n",
       "4  Couchbase;Firebase;MongoDB;MySQL;Oracle;Postgr...   \n",
       "\n",
       "                  PlatformWorkedWith                 PlatformDesireNextYear  \\\n",
       "0                      MacOS;Windows                Android;Arduino;Windows   \n",
       "1                            Windows                                Windows   \n",
       "2                                NaN                                    NaN   \n",
       "3                      Linux;Windows                          Linux;Windows   \n",
       "4  Android;Linux;MacOS;Slack;Windows  Android;Docker;Kubernetes;Linux;Slack   \n",
       "\n",
       "                            WebFrameWorkedWith        WebFrameDesireNextYear  \\\n",
       "0                                 Django;Flask                  Flask;jQuery   \n",
       "1                                       Django                        Django   \n",
       "2                                          NaN                     Other(s):   \n",
       "3                                          NaN                           NaN   \n",
       "4  Django;Express;Flask;jQuery;React.js;Spring  Flask;jQuery;React.js;Spring   \n",
       "\n",
       "         OpSys SocialMedia   Age Gender  \n",
       "0      Windows     Twitter  14.0    Man  \n",
       "1      Windows   Instagram  19.0    Man  \n",
       "2  Linux-based      Reddit  28.0    Man  \n",
       "3      Windows      Reddit  22.0    Man  \n",
       "4  Linux-based    Facebook  30.0    Man  "
      ]
     },
     "execution_count": 6,
     "metadata": {},
     "output_type": "execute_result"
    }
   ],
   "source": [
    "# Now we are left with the 20 columns only for analysis.\n",
    "df.head()"
   ]
  },
  {
   "cell_type": "code",
   "execution_count": 7,
   "id": "6b1c6718",
   "metadata": {},
   "outputs": [
    {
     "data": {
      "text/plain": [
       "(88883, 20)"
      ]
     },
     "execution_count": 7,
     "metadata": {},
     "output_type": "execute_result"
    }
   ],
   "source": [
    "df.shape"
   ]
  },
  {
   "cell_type": "markdown",
   "id": "6c2bb3ea",
   "metadata": {},
   "source": [
    "It has 88883 rows and 20 columns"
   ]
  },
  {
   "cell_type": "code",
   "execution_count": 8,
   "id": "7c513815",
   "metadata": {},
   "outputs": [
    {
     "data": {
      "text/plain": [
       "Index(['MainBranch', 'OpenSourcer', 'Country', 'CareerSat', 'ResumeUpdate',\n",
       "       'ConvertedComp', 'WorkWeekHrs', 'WorkLoc', 'LanguageWorkedWith',\n",
       "       'LanguageDesireNextYear', 'DatabaseWorkedWith',\n",
       "       'DatabaseDesireNextYear', 'PlatformWorkedWith',\n",
       "       'PlatformDesireNextYear', 'WebFrameWorkedWith',\n",
       "       'WebFrameDesireNextYear', 'OpSys', 'SocialMedia', 'Age', 'Gender'],\n",
       "      dtype='object')"
      ]
     },
     "execution_count": 8,
     "metadata": {},
     "output_type": "execute_result"
    }
   ],
   "source": [
    "df.columns"
   ]
  },
  {
   "cell_type": "code",
   "execution_count": 9,
   "id": "851cf94f",
   "metadata": {},
   "outputs": [
    {
     "name": "stdout",
     "output_type": "stream",
     "text": [
      "<class 'pandas.core.frame.DataFrame'>\n",
      "RangeIndex: 88883 entries, 0 to 88882\n",
      "Data columns (total 20 columns):\n",
      " #   Column                  Non-Null Count  Dtype  \n",
      "---  ------                  --------------  -----  \n",
      " 0   MainBranch              88331 non-null  object \n",
      " 1   OpenSourcer             88883 non-null  object \n",
      " 2   Country                 88751 non-null  object \n",
      " 3   CareerSat               72847 non-null  object \n",
      " 4   ResumeUpdate            77877 non-null  object \n",
      " 5   ConvertedComp           55823 non-null  float64\n",
      " 6   WorkWeekHrs             64503 non-null  float64\n",
      " 7   WorkLoc                 70055 non-null  object \n",
      " 8   LanguageWorkedWith      87569 non-null  object \n",
      " 9   LanguageDesireNextYear  84088 non-null  object \n",
      " 10  DatabaseWorkedWith      76026 non-null  object \n",
      " 11  DatabaseDesireNextYear  69147 non-null  object \n",
      " 12  PlatformWorkedWith      80714 non-null  object \n",
      " 13  PlatformDesireNextYear  77443 non-null  object \n",
      " 14  WebFrameWorkedWith      65022 non-null  object \n",
      " 15  WebFrameDesireNextYear  62944 non-null  object \n",
      " 16  OpSys                   87851 non-null  object \n",
      " 17  SocialMedia             84437 non-null  object \n",
      " 18  Age                     79210 non-null  float64\n",
      " 19  Gender                  85406 non-null  object \n",
      "dtypes: float64(3), object(17)\n",
      "memory usage: 13.6+ MB\n"
     ]
    }
   ],
   "source": [
    "\n",
    "df.info()"
   ]
  },
  {
   "cell_type": "markdown",
   "id": "9805d56a",
   "metadata": {},
   "source": [
    "There are 3 columns having float datatype and 17 are of categorical types."
   ]
  },
  {
   "cell_type": "code",
   "execution_count": 10,
   "id": "1a33ba1a",
   "metadata": {},
   "outputs": [
    {
     "data": {
      "text/plain": [
       "Very satisfied                        29173\n",
       "Slightly satisfied                    25018\n",
       "Slightly dissatisfied                  7670\n",
       "Neither satisfied nor dissatisfied     7252\n",
       "Very dissatisfied                      3734\n",
       "Name: CareerSat, dtype: int64"
      ]
     },
     "execution_count": 10,
     "metadata": {},
     "output_type": "execute_result"
    }
   ],
   "source": [
    "df[\"CareerSat\"].value_counts()"
   ]
  },
  {
   "cell_type": "markdown",
   "id": "eab4fae5",
   "metadata": {},
   "source": [
    "As it can be seen that the most of the developers falls under the satisfied category."
   ]
  },
  {
   "cell_type": "code",
   "execution_count": 11,
   "id": "a21e43cf",
   "metadata": {},
   "outputs": [
    {
     "data": {
      "text/plain": [
       "I was preparing for a job search                                                33309\n",
       "My job status changed (promotion, new job, etc.)                                13546\n",
       "Something else changed (education, award, media, etc.)                          11986\n",
       "I heard about a job opportunity (from a recruiter, online job posting, etc.)    11327\n",
       "I had a negative experience or interaction at work                               6272\n",
       "Re-entry into the workforce                                                      1437\n",
       "Name: ResumeUpdate, dtype: int64"
      ]
     },
     "execution_count": 11,
     "metadata": {},
     "output_type": "execute_result"
    }
   ],
   "source": [
    "df[\"ResumeUpdate\"].value_counts()"
   ]
  },
  {
   "cell_type": "markdown",
   "id": "263b387a",
   "metadata": {},
   "source": [
    "It can be insighted from here that most developers updated there resume in search of job"
   ]
  },
  {
   "cell_type": "code",
   "execution_count": 12,
   "id": "2d3fa6ec",
   "metadata": {},
   "outputs": [
    {
     "data": {
      "text/html": [
       "<div>\n",
       "<style scoped>\n",
       "    .dataframe tbody tr th:only-of-type {\n",
       "        vertical-align: middle;\n",
       "    }\n",
       "\n",
       "    .dataframe tbody tr th {\n",
       "        vertical-align: top;\n",
       "    }\n",
       "\n",
       "    .dataframe thead th {\n",
       "        text-align: right;\n",
       "    }\n",
       "</style>\n",
       "<table border=\"1\" class=\"dataframe\">\n",
       "  <thead>\n",
       "    <tr style=\"text-align: right;\">\n",
       "      <th></th>\n",
       "      <th>ConvertedComp</th>\n",
       "      <th>WorkWeekHrs</th>\n",
       "      <th>Age</th>\n",
       "    </tr>\n",
       "  </thead>\n",
       "  <tbody>\n",
       "    <tr>\n",
       "      <th>count</th>\n",
       "      <td>5.582300e+04</td>\n",
       "      <td>64503.000000</td>\n",
       "      <td>79210.000000</td>\n",
       "    </tr>\n",
       "    <tr>\n",
       "      <th>mean</th>\n",
       "      <td>1.271107e+05</td>\n",
       "      <td>42.127197</td>\n",
       "      <td>30.336699</td>\n",
       "    </tr>\n",
       "    <tr>\n",
       "      <th>std</th>\n",
       "      <td>2.841523e+05</td>\n",
       "      <td>37.287610</td>\n",
       "      <td>9.178390</td>\n",
       "    </tr>\n",
       "    <tr>\n",
       "      <th>min</th>\n",
       "      <td>0.000000e+00</td>\n",
       "      <td>1.000000</td>\n",
       "      <td>1.000000</td>\n",
       "    </tr>\n",
       "    <tr>\n",
       "      <th>25%</th>\n",
       "      <td>2.577750e+04</td>\n",
       "      <td>40.000000</td>\n",
       "      <td>24.000000</td>\n",
       "    </tr>\n",
       "    <tr>\n",
       "      <th>50%</th>\n",
       "      <td>5.728700e+04</td>\n",
       "      <td>40.000000</td>\n",
       "      <td>29.000000</td>\n",
       "    </tr>\n",
       "    <tr>\n",
       "      <th>75%</th>\n",
       "      <td>1.000000e+05</td>\n",
       "      <td>44.750000</td>\n",
       "      <td>35.000000</td>\n",
       "    </tr>\n",
       "    <tr>\n",
       "      <th>max</th>\n",
       "      <td>2.000000e+06</td>\n",
       "      <td>4850.000000</td>\n",
       "      <td>99.000000</td>\n",
       "    </tr>\n",
       "  </tbody>\n",
       "</table>\n",
       "</div>"
      ],
      "text/plain": [
       "       ConvertedComp   WorkWeekHrs           Age\n",
       "count   5.582300e+04  64503.000000  79210.000000\n",
       "mean    1.271107e+05     42.127197     30.336699\n",
       "std     2.841523e+05     37.287610      9.178390\n",
       "min     0.000000e+00      1.000000      1.000000\n",
       "25%     2.577750e+04     40.000000     24.000000\n",
       "50%     5.728700e+04     40.000000     29.000000\n",
       "75%     1.000000e+05     44.750000     35.000000\n",
       "max     2.000000e+06   4850.000000     99.000000"
      ]
     },
     "execution_count": 12,
     "metadata": {},
     "output_type": "execute_result"
    }
   ],
   "source": [
    "df.describe()"
   ]
  },
  {
   "cell_type": "markdown",
   "id": "bb34761d",
   "metadata": {},
   "source": [
    "<span style = \"color:Blue\"> With an overall overview of the data, there are many incompleteness in the data which need to be properly cleaned </span>"
   ]
  },
  {
   "cell_type": "markdown",
   "id": "d91610bd",
   "metadata": {},
   "source": [
    "### Cleaning the data"
   ]
  },
  {
   "cell_type": "code",
   "execution_count": 13,
   "id": "2f77fb50",
   "metadata": {},
   "outputs": [
    {
     "data": {
      "text/plain": [
       "I am a developer by profession                                                   65679\n",
       "I am a student who is learning to code                                           10189\n",
       "I am not primarily a developer, but I write code sometimes as part of my work     7539\n",
       "I code primarily as a hobby                                                       3340\n",
       "I used to be a developer by profession, but no longer am                          1584\n",
       "Name: MainBranch, dtype: int64"
      ]
     },
     "execution_count": 13,
     "metadata": {},
     "output_type": "execute_result"
    }
   ],
   "source": [
    "df[\"MainBranch\"].value_counts()"
   ]
  },
  {
   "cell_type": "code",
   "execution_count": null,
   "id": "4284816b",
   "metadata": {},
   "outputs": [],
   "source": []
  },
  {
   "cell_type": "code",
   "execution_count": 14,
   "id": "32d567f0",
   "metadata": {},
   "outputs": [
    {
     "data": {
      "text/plain": [
       "552"
      ]
     },
     "execution_count": 14,
     "metadata": {},
     "output_type": "execute_result"
    }
   ],
   "source": [
    "df[\"MainBranch\"].isnull().sum()"
   ]
  },
  {
   "cell_type": "markdown",
   "id": "d0d74fbc",
   "metadata": {},
   "source": [
    "So, the \"MainBranch\" column has the 552 values as null which is really inconsistent in the analysis.Therefore it will be better to fill all the null values with the value (student)"
   ]
  },
  {
   "cell_type": "markdown",
   "id": "a5d7fd15",
   "metadata": {},
   "source": [
    "Lets start with the column \"MainBranch\": This column has the data in string object type.\n",
    " - Coverting datatype to categorical\n",
    " - Filling the null with the value (student)\n",
    " "
   ]
  },
  {
   "cell_type": "code",
   "execution_count": 15,
   "id": "700bdeb5",
   "metadata": {},
   "outputs": [],
   "source": [
    "df[\"MainBranch\"] = df[\"MainBranch\"].astype(\"category\")"
   ]
  },
  {
   "cell_type": "code",
   "execution_count": 16,
   "id": "6c023e42",
   "metadata": {},
   "outputs": [],
   "source": [
    "# Creating a list of MainBranch column\n",
    "MainBranch = []\n",
    "for i in df[\"MainBranch\"]:\n",
    "    if i == \"I am a developer by profession\":\n",
    "        MainBranch.append(\"Developer\")\n",
    "    elif i == \"I am a student who is learning to code\":\n",
    "        MainBranch.append(\"Student\")\n",
    "    elif i == \"I am not primarily a developer, but I write code sometimes as part of my work\":\n",
    "        MainBranch.append(\"Semi_Developer\")\n",
    "    elif i == \"I code primarily as a hobby\":\n",
    "        MainBranch.append(\"Hobby\")\n",
    "    elif i == \"I used to be a developer by profession, but no longer am\":\n",
    "        MainBranch.append(\"Ex_Developer\")\n",
    "    else:\n",
    "        MainBranch.append(\"Student\")  ## Filling the null values here\n"
   ]
  },
  {
   "cell_type": "code",
   "execution_count": 17,
   "id": "900895d0",
   "metadata": {},
   "outputs": [],
   "source": [
    "df[\"MainBranch\"] = MainBranch"
   ]
  },
  {
   "cell_type": "code",
   "execution_count": 18,
   "id": "6136a560",
   "metadata": {},
   "outputs": [
    {
     "data": {
      "text/plain": [
       "Developer         65679\n",
       "Student           10741\n",
       "Semi_Developer     7539\n",
       "Hobby              3340\n",
       "Ex_Developer       1584\n",
       "Name: MainBranch, dtype: int64"
      ]
     },
     "execution_count": 18,
     "metadata": {},
     "output_type": "execute_result"
    }
   ],
   "source": [
    "df[\"MainBranch\"].value_counts()"
   ]
  },
  {
   "cell_type": "code",
   "execution_count": 19,
   "id": "6fe36f12",
   "metadata": {},
   "outputs": [
    {
     "data": {
      "text/plain": [
       "0"
      ]
     },
     "execution_count": 19,
     "metadata": {},
     "output_type": "execute_result"
    }
   ],
   "source": [
    "\n",
    "df[\"MainBranch\"].isnull().sum()"
   ]
  },
  {
   "cell_type": "markdown",
   "id": "8f857a1e",
   "metadata": {},
   "source": [
    "### Converting ResumeUpdate to Category type."
   ]
  },
  {
   "cell_type": "code",
   "execution_count": 20,
   "id": "61c1dc11",
   "metadata": {},
   "outputs": [
    {
     "data": {
      "text/plain": [
       "I was preparing for a job search                                                33309\n",
       "My job status changed (promotion, new job, etc.)                                13546\n",
       "Something else changed (education, award, media, etc.)                          11986\n",
       "I heard about a job opportunity (from a recruiter, online job posting, etc.)    11327\n",
       "I had a negative experience or interaction at work                               6272\n",
       "Re-entry into the workforce                                                      1437\n",
       "Name: ResumeUpdate, dtype: int64"
      ]
     },
     "execution_count": 20,
     "metadata": {},
     "output_type": "execute_result"
    }
   ],
   "source": [
    "df[\"ResumeUpdate\"].value_counts()"
   ]
  },
  {
   "cell_type": "code",
   "execution_count": 21,
   "id": "2a966527",
   "metadata": {},
   "outputs": [],
   "source": [
    "# Converting the date type of column \"ResumeUpdate\" from object to category type\n",
    "df[\"ResumeUpdate\"] = df[\"ResumeUpdate\"].astype(\"category\")"
   ]
  },
  {
   "cell_type": "markdown",
   "id": "0a7056f6",
   "metadata": {},
   "source": [
    "### Next is OpenSourcer to Category type as 'Yes' or 'No'."
   ]
  },
  {
   "cell_type": "code",
   "execution_count": 22,
   "id": "e493e36a",
   "metadata": {},
   "outputs": [
    {
     "data": {
      "text/plain": [
       "Never                                                 32295\n",
       "Less than once per year                               24972\n",
       "Less than once a month but more than once per year    20561\n",
       "Once a month or more often                            11055\n",
       "Name: OpenSourcer, dtype: int64"
      ]
     },
     "execution_count": 22,
     "metadata": {},
     "output_type": "execute_result"
    }
   ],
   "source": [
    "df[\"OpenSourcer\"].value_counts()"
   ]
  },
  {
   "cell_type": "code",
   "execution_count": 23,
   "id": "06844f64",
   "metadata": {},
   "outputs": [],
   "source": [
    "\n",
    "OpenSourcer = []\n",
    "for i in df['OpenSourcer']:\n",
    "    if (i == 'Never' ) or (i=='Less than once per year') or (i==''):\n",
    "        OpenSourcer.append('No')\n",
    "    else:\n",
    "        OpenSourcer.append('Yes')\n",
    "df['OpenSourcer'] = OpenSourcer\n",
    "df['OpenSourcer'] = df['OpenSourcer'].astype('category')"
   ]
  },
  {
   "cell_type": "code",
   "execution_count": 24,
   "id": "b4f5f3f2",
   "metadata": {},
   "outputs": [
    {
     "data": {
      "text/plain": [
       "No     57267\n",
       "Yes    31616\n",
       "Name: OpenSourcer, dtype: int64"
      ]
     },
     "execution_count": 24,
     "metadata": {},
     "output_type": "execute_result"
    }
   ],
   "source": [
    "df[\"OpenSourcer\"].value_counts()"
   ]
  },
  {
   "cell_type": "code",
   "execution_count": 25,
   "id": "6b4acdc3",
   "metadata": {},
   "outputs": [
    {
     "data": {
      "text/plain": [
       "United States        20949\n",
       "India                 9061\n",
       "Germany               5866\n",
       "United Kingdom        5737\n",
       "Canada                3395\n",
       "                     ...  \n",
       "Tonga                    1\n",
       "Timor-Leste              1\n",
       "North Korea              1\n",
       "Brunei Darussalam        1\n",
       "Chad                     1\n",
       "Name: Country, Length: 179, dtype: int64"
      ]
     },
     "execution_count": 25,
     "metadata": {},
     "output_type": "execute_result"
    }
   ],
   "source": [
    "df[\"Country\"].value_counts()"
   ]
  },
  {
   "cell_type": "code",
   "execution_count": 26,
   "id": "3dd24b7e",
   "metadata": {},
   "outputs": [
    {
     "data": {
      "text/plain": [
       "Very satisfied                        29173\n",
       "Slightly satisfied                    25018\n",
       "Slightly dissatisfied                  7670\n",
       "Neither satisfied nor dissatisfied     7252\n",
       "Very dissatisfied                      3734\n",
       "Name: CareerSat, dtype: int64"
      ]
     },
     "execution_count": 26,
     "metadata": {},
     "output_type": "execute_result"
    }
   ],
   "source": [
    "df[\"CareerSat\"].value_counts()"
   ]
  },
  {
   "cell_type": "code",
   "execution_count": 27,
   "id": "d8c31dff",
   "metadata": {},
   "outputs": [
    {
     "data": {
      "text/plain": [
       "2000000.0    709\n",
       "1000000.0    558\n",
       "120000.0     502\n",
       "100000.0     480\n",
       "150000.0     434\n",
       "            ... \n",
       "411096.0       1\n",
       "261228.0       1\n",
       "82322.0        1\n",
       "66424.0        1\n",
       "588012.0       1\n",
       "Name: ConvertedComp, Length: 9162, dtype: int64"
      ]
     },
     "execution_count": 27,
     "metadata": {},
     "output_type": "execute_result"
    }
   ],
   "source": [
    "df[\"ConvertedComp\"].value_counts()"
   ]
  },
  {
   "cell_type": "code",
   "execution_count": 28,
   "id": "e7c3482b",
   "metadata": {},
   "outputs": [
    {
     "data": {
      "text/plain": [
       "40.00     30131\n",
       "45.00      6352\n",
       "50.00      4656\n",
       "35.00      3159\n",
       "37.50      1662\n",
       "          ...  \n",
       "43.40         1\n",
       "18.75         1\n",
       "62.50         1\n",
       "415.00        1\n",
       "36.80         1\n",
       "Name: WorkWeekHrs, Length: 207, dtype: int64"
      ]
     },
     "execution_count": 28,
     "metadata": {},
     "output_type": "execute_result"
    }
   ],
   "source": [
    "df[\"WorkWeekHrs\"].value_counts()"
   ]
  },
  {
   "cell_type": "code",
   "execution_count": 29,
   "id": "b8c24854",
   "metadata": {},
   "outputs": [
    {
     "data": {
      "text/plain": [
       "Office                                            40592\n",
       "Home                                              23278\n",
       "Other place, such as a coworking space or cafe     6185\n",
       "Name: WorkLoc, dtype: int64"
      ]
     },
     "execution_count": 29,
     "metadata": {},
     "output_type": "execute_result"
    }
   ],
   "source": [
    "df[\"WorkLoc\"].value_counts()"
   ]
  },
  {
   "cell_type": "code",
   "execution_count": 30,
   "id": "bacbdb2a",
   "metadata": {},
   "outputs": [
    {
     "data": {
      "text/plain": [
       "HTML/CSS;JavaScript;PHP;SQL                                                        1483\n",
       "C#;HTML/CSS;JavaScript;SQL                                                         1414\n",
       "HTML/CSS;JavaScript                                                                1247\n",
       "C#;HTML/CSS;JavaScript;SQL;TypeScript                                               990\n",
       "Java                                                                                934\n",
       "                                                                                   ... \n",
       "Bash/Shell/PowerShell;Clojure;Go;JavaScript;Python;R;Rust;WebAssembly;Other(s):       1\n",
       "C;C#;Go;HTML/CSS;Java;JavaScript;PHP;Python;SQL;TypeScript                            1\n",
       "C;C++;Java;Objective-C;Python;R;Scala;Swift                                           1\n",
       "Bash/Shell/PowerShell;C#;HTML/CSS;JavaScript;Python;SQL;WebAssembly                   1\n",
       "Assembly;Bash/Shell/PowerShell;C;C#;HTML/CSS;Java;JavaScript;PHP;SQL;Other(s):        1\n",
       "Name: LanguageWorkedWith, Length: 20098, dtype: int64"
      ]
     },
     "execution_count": 30,
     "metadata": {},
     "output_type": "execute_result"
    }
   ],
   "source": [
    "df[\"LanguageWorkedWith\"].value_counts()"
   ]
  },
  {
   "cell_type": "code",
   "execution_count": 31,
   "id": "ad829089",
   "metadata": {},
   "outputs": [
    {
     "data": {
      "text/plain": [
       "Python                                                                                                 1236\n",
       "HTML/CSS;JavaScript                                                                                     697\n",
       "HTML/CSS;JavaScript;TypeScript                                                                          648\n",
       "C#                                                                                                      607\n",
       "Java                                                                                                    584\n",
       "                                                                                                       ... \n",
       "Bash/Shell/PowerShell;C;C++;C#;Go;HTML/CSS;Java;JavaScript;Kotlin;Objective-C;Python;Ruby;Scala;SQL       1\n",
       "Bash/Shell/PowerShell;C;C++;C#;Go;HTML/CSS;Java;JavaScript;Python;SQL                                     1\n",
       "PHP;Python;SQL;Swift;TypeScript                                                                           1\n",
       "Java;JavaScript;Kotlin;Objective-C;SQL;TypeScript                                                         1\n",
       "C;C++;C#;HTML/CSS;Java;Objective-C;SQL;Swift                                                              1\n",
       "Name: LanguageDesireNextYear, Length: 27259, dtype: int64"
      ]
     },
     "execution_count": 31,
     "metadata": {},
     "output_type": "execute_result"
    }
   ],
   "source": [
    "df[\"LanguageDesireNextYear\"].value_counts()"
   ]
  },
  {
   "cell_type": "code",
   "execution_count": 32,
   "id": "22d7ba96",
   "metadata": {},
   "outputs": [
    {
     "data": {
      "text/plain": [
       "MySQL                                                                          5556\n",
       "Microsoft SQL Server                                                           5164\n",
       "PostgreSQL                                                                     2614\n",
       "SQLite                                                                         2027\n",
       "Microsoft SQL Server;MySQL                                                     1868\n",
       "                                                                               ... \n",
       "Cassandra;Elasticsearch;MongoDB;Microsoft SQL Server;MySQL;Redis;SQLite           1\n",
       "Elasticsearch;Firebase;MySQL;Oracle;Redis                                         1\n",
       "Elasticsearch;Firebase;MongoDB;Microsoft SQL Server;PostgreSQL;Redis;SQLite       1\n",
       "Firebase;Microsoft SQL Server;MySQL;Oracle;PostgreSQL;Redis                       1\n",
       "Cassandra;DynamoDB;Elasticsearch;Firebase;MySQL                                   1\n",
       "Name: DatabaseWorkedWith, Length: 3478, dtype: int64"
      ]
     },
     "execution_count": 32,
     "metadata": {},
     "output_type": "execute_result"
    }
   ],
   "source": [
    "df[\"DatabaseWorkedWith\"].value_counts()"
   ]
  },
  {
   "cell_type": "code",
   "execution_count": 33,
   "id": "87c8dff6",
   "metadata": {},
   "outputs": [
    {
     "data": {
      "text/plain": [
       "PostgreSQL                                                                               3539\n",
       "Microsoft SQL Server                                                                     3290\n",
       "MySQL                                                                                    3184\n",
       "MongoDB                                                                                  2250\n",
       "SQLite                                                                                   1506\n",
       "                                                                                         ... \n",
       "Couchbase;Elasticsearch;Other(s):                                                           1\n",
       "Couchbase;Elasticsearch;Firebase;MariaDB;MongoDB;MySQL;Oracle;PostgreSQL;Redis;SQLite       1\n",
       "Couchbase;Firebase;MariaDB                                                                  1\n",
       "DynamoDB;Microsoft SQL Server;Oracle;Other(s):                                              1\n",
       "DynamoDB;MariaDB;MongoDB;Microsoft SQL Server;MySQL;PostgreSQL;SQLite;Other(s):             1\n",
       "Name: DatabaseDesireNextYear, Length: 3923, dtype: int64"
      ]
     },
     "execution_count": 33,
     "metadata": {},
     "output_type": "execute_result"
    }
   ],
   "source": [
    "df[\"DatabaseDesireNextYear\"].value_counts()"
   ]
  },
  {
   "cell_type": "code",
   "execution_count": 34,
   "id": "83e6b4c3",
   "metadata": {},
   "outputs": [
    {
     "data": {
      "text/plain": [
       "Windows                                                              7031\n",
       "Linux;Windows                                                        3329\n",
       "Linux                                                                3298\n",
       "Android                                                              1961\n",
       "Microsoft Azure;Windows                                              1198\n",
       "                                                                     ... \n",
       "Docker;Google Cloud Platform;IBM Cloud or Watson;Windows                1\n",
       "Docker;Heroku;Kubernetes;MacOS;WordPress                                1\n",
       "Arduino;Heroku;IBM Cloud or Watson;Linux;MacOS;Raspberry Pi;Slack       1\n",
       "Linux;MacOS;Microsoft Azure;Raspberry Pi;Slack                          1\n",
       "Android;Arduino;Docker;Heroku;Linux;WordPress                           1\n",
       "Name: PlatformWorkedWith, Length: 8731, dtype: int64"
      ]
     },
     "execution_count": 34,
     "metadata": {},
     "output_type": "execute_result"
    }
   ],
   "source": [
    "df[\"PlatformWorkedWith\"].value_counts()"
   ]
  },
  {
   "cell_type": "code",
   "execution_count": 35,
   "id": "b6e9bdaa",
   "metadata": {},
   "outputs": [
    {
     "data": {
      "text/plain": [
       "Linux                                                                                       3280\n",
       "Windows                                                                                     2967\n",
       "Linux;Windows                                                                               1696\n",
       "Android                                                                                     1509\n",
       "Docker;Linux                                                                                1100\n",
       "                                                                                            ... \n",
       "AWS;Google Cloud Platform;Raspberry Pi;Slack;Windows                                           1\n",
       "AWS;Heroku;iOS;MacOS;Other(s):                                                                 1\n",
       "Arduino;AWS;Docker;Kubernetes;Linux;Microsoft Azure;Raspberry Pi;Slack;Windows;WordPress       1\n",
       "IBM Cloud or Watson;iOS;Linux;MacOS                                                            1\n",
       "Android;AWS;Google Cloud Platform;IBM Cloud or Watson;iOS;Linux;MacOS;Slack;Windows            1\n",
       "Name: PlatformDesireNextYear, Length: 10795, dtype: int64"
      ]
     },
     "execution_count": 35,
     "metadata": {},
     "output_type": "execute_result"
    }
   ],
   "source": [
    "df[\"PlatformDesireNextYear\"].value_counts()"
   ]
  },
  {
   "cell_type": "code",
   "execution_count": 36,
   "id": "75c1ec86",
   "metadata": {},
   "outputs": [
    {
     "data": {
      "text/plain": [
       "jQuery                                                                   4171\n",
       "ASP.NET;jQuery                                                           2963\n",
       "ASP.NET                                                                  2921\n",
       "React.js                                                                 2353\n",
       "Spring                                                                   2224\n",
       "                                                                         ... \n",
       "Django;Express;jQuery;Ruby on Rails;Vue.js                                  1\n",
       "Angular/Angular.js;Ruby on Rails;Spring;Other(s):                           1\n",
       "ASP.NET;Laravel;Ruby on Rails                                               1\n",
       "Angular/Angular.js;ASP.NET;Django;Express;Flask;jQuery;Laravel;Vue.js       1\n",
       "Angular/Angular.js;Drupal;jQuery;Laravel;React.js;Ruby on Rails             1\n",
       "Name: WebFrameWorkedWith, Length: 2142, dtype: int64"
      ]
     },
     "execution_count": 36,
     "metadata": {},
     "output_type": "execute_result"
    }
   ],
   "source": [
    "df[\"WebFrameWorkedWith\"].value_counts()"
   ]
  },
  {
   "cell_type": "code",
   "execution_count": 37,
   "id": "0726cd51",
   "metadata": {},
   "outputs": [
    {
     "data": {
      "text/plain": [
       "React.js                                                                                    3744\n",
       "ASP.NET                                                                                     2107\n",
       "Spring                                                                                      1705\n",
       "Vue.js                                                                                      1682\n",
       "jQuery                                                                                      1676\n",
       "                                                                                            ... \n",
       "Django;Drupal;jQuery;React.js;Ruby on Rails;Vue.js                                             1\n",
       "Drupal;jQuery;Laravel;Other(s):                                                                1\n",
       "ASP.NET;Django;Drupal;Spring                                                                   1\n",
       "Angular/Angular.js;ASP.NET;Drupal;Express;Laravel;React.js;Vue.js;Other(s):                    1\n",
       "Angular/Angular.js;ASP.NET;Django;Express;jQuery;React.js;Ruby on Rails;Vue.js;Other(s):       1\n",
       "Name: WebFrameDesireNextYear, Length: 2312, dtype: int64"
      ]
     },
     "execution_count": 37,
     "metadata": {},
     "output_type": "execute_result"
    }
   ],
   "source": [
    "df[\"WebFrameDesireNextYear\"].value_counts()"
   ]
  },
  {
   "cell_type": "code",
   "execution_count": 38,
   "id": "16ffcf50",
   "metadata": {},
   "outputs": [
    {
     "data": {
      "text/plain": [
       "Windows        41714\n",
       "MacOS          23541\n",
       "Linux-based    22472\n",
       "BSD              124\n",
       "Name: OpSys, dtype: int64"
      ]
     },
     "execution_count": 38,
     "metadata": {},
     "output_type": "execute_result"
    }
   ],
   "source": [
    "df[\"OpSys\"].value_counts()"
   ]
  },
  {
   "cell_type": "code",
   "execution_count": 39,
   "id": "e474f1d9",
   "metadata": {},
   "outputs": [
    {
     "data": {
      "text/plain": [
       "Reddit                      14374\n",
       "YouTube                     13830\n",
       "WhatsApp                    13347\n",
       "Facebook                    13178\n",
       "Twitter                     11398\n",
       "Instagram                    6261\n",
       "I don't use social media     5554\n",
       "LinkedIn                     4501\n",
       "WeChat 微信                     667\n",
       "Snapchat                      628\n",
       "VK ВКонта́кте                 603\n",
       "Weibo 新浪微博                     56\n",
       "Youku Tudou 优酷                 21\n",
       "Hello                          19\n",
       "Name: SocialMedia, dtype: int64"
      ]
     },
     "execution_count": 39,
     "metadata": {},
     "output_type": "execute_result"
    }
   ],
   "source": [
    "df[\"SocialMedia\"].value_counts()"
   ]
  },
  {
   "cell_type": "code",
   "execution_count": 40,
   "id": "fd1d430f",
   "metadata": {},
   "outputs": [
    {
     "data": {
      "text/plain": [
       "25.0    4669\n",
       "24.0    4428\n",
       "27.0    4418\n",
       "26.0    4397\n",
       "28.0    4387\n",
       "        ... \n",
       "24.8       1\n",
       "90.0       1\n",
       "61.3       1\n",
       "4.0        1\n",
       "87.0       1\n",
       "Name: Age, Length: 126, dtype: int64"
      ]
     },
     "execution_count": 40,
     "metadata": {},
     "output_type": "execute_result"
    }
   ],
   "source": [
    "df[\"Age\"].value_counts()"
   ]
  },
  {
   "cell_type": "code",
   "execution_count": 41,
   "id": "b9cee06b",
   "metadata": {},
   "outputs": [
    {
     "data": {
      "text/plain": [
       "Man                                                            77919\n",
       "Woman                                                           6344\n",
       "Non-binary, genderqueer, or gender non-conforming                597\n",
       "Man;Non-binary, genderqueer, or gender non-conforming            181\n",
       "Woman;Non-binary, genderqueer, or gender non-conforming          163\n",
       "Woman;Man                                                        132\n",
       "Woman;Man;Non-binary, genderqueer, or gender non-conforming       70\n",
       "Name: Gender, dtype: int64"
      ]
     },
     "execution_count": 41,
     "metadata": {},
     "output_type": "execute_result"
    }
   ],
   "source": [
    "df[\"Gender\"].value_counts()"
   ]
  },
  {
   "cell_type": "markdown",
   "id": "aca55572",
   "metadata": {},
   "source": [
    "### Next we will convert CareerSat to category type"
   ]
  },
  {
   "cell_type": "code",
   "execution_count": 42,
   "id": "6ca7b376",
   "metadata": {},
   "outputs": [
    {
     "data": {
      "text/plain": [
       "Very satisfied                        29173\n",
       "Slightly satisfied                    25018\n",
       "Slightly dissatisfied                  7670\n",
       "Neither satisfied nor dissatisfied     7252\n",
       "Very dissatisfied                      3734\n",
       "Name: CareerSat, dtype: int64"
      ]
     },
     "execution_count": 42,
     "metadata": {},
     "output_type": "execute_result"
    }
   ],
   "source": [
    "df['CareerSat'].value_counts()"
   ]
  },
  {
   "cell_type": "code",
   "execution_count": 43,
   "id": "d8fd559b",
   "metadata": {},
   "outputs": [],
   "source": [
    "\n",
    "df['CareerSat'] = df['CareerSat'].astype('category')"
   ]
  },
  {
   "cell_type": "markdown",
   "id": "0cb6fd1b",
   "metadata": {},
   "source": [
    " ### Next we will convert WorkLoc to Category type."
   ]
  },
  {
   "cell_type": "code",
   "execution_count": 44,
   "id": "6e9c20d7",
   "metadata": {},
   "outputs": [
    {
     "data": {
      "text/plain": [
       "Office                                            40592\n",
       "Home                                              23278\n",
       "Other place, such as a coworking space or cafe     6185\n",
       "Name: WorkLoc, dtype: int64"
      ]
     },
     "execution_count": 44,
     "metadata": {},
     "output_type": "execute_result"
    }
   ],
   "source": [
    "df[\"WorkLoc\"].value_counts()"
   ]
  },
  {
   "cell_type": "markdown",
   "id": "309f3332",
   "metadata": {},
   "source": [
    " As it can be cleary seen that we have a very long string for \"Other place, such as a coworking space or cafe\" we will simply replace this value with other"
   ]
  },
  {
   "cell_type": "code",
   "execution_count": 45,
   "id": "6b863236",
   "metadata": {},
   "outputs": [],
   "source": [
    "WorkLoc = []\n",
    "for i in df[\"WorkLoc\"]:\n",
    "    if i == \"Office\":\n",
    "        WorkLoc.append(\"Office\")\n",
    "    elif i == \"Home\":\n",
    "        WorkLoc.append(\"Home\")\n",
    "    else:\n",
    "        WorkLoc.append(\"Others\")\n",
    "    \n",
    "df[\"WorkLoc\"] = WorkLoc\n",
    "\n",
    "df[\"WorkLoc\"] = df[\"WorkLoc\"].astype(\"category\")\n",
    "        "
   ]
  },
  {
   "cell_type": "code",
   "execution_count": 46,
   "id": "585862f3",
   "metadata": {},
   "outputs": [
    {
     "data": {
      "text/plain": [
       "0"
      ]
     },
     "execution_count": 46,
     "metadata": {},
     "output_type": "execute_result"
    }
   ],
   "source": [
    "df[\"WorkLoc\"].isnull().sum()"
   ]
  },
  {
   "cell_type": "code",
   "execution_count": 47,
   "id": "62d3e3fb",
   "metadata": {},
   "outputs": [
    {
     "data": {
      "text/plain": [
       "0        Others\n",
       "1        Others\n",
       "2          Home\n",
       "3          Home\n",
       "4        Office\n",
       "          ...  \n",
       "88878    Others\n",
       "88879    Others\n",
       "88880    Others\n",
       "88881    Others\n",
       "88882    Others\n",
       "Name: WorkLoc, Length: 88883, dtype: category\n",
       "Categories (3, object): ['Home', 'Office', 'Others']"
      ]
     },
     "execution_count": 47,
     "metadata": {},
     "output_type": "execute_result"
    }
   ],
   "source": [
    "df[\"WorkLoc\"]"
   ]
  },
  {
   "cell_type": "markdown",
   "id": "189600a1",
   "metadata": {},
   "source": [
    " ### Now we will convert OpSys to Category type."
   ]
  },
  {
   "cell_type": "code",
   "execution_count": 48,
   "id": "011d5694",
   "metadata": {},
   "outputs": [
    {
     "data": {
      "text/plain": [
       "Windows        41714\n",
       "MacOS          23541\n",
       "Linux-based    22472\n",
       "BSD              124\n",
       "Name: OpSys, dtype: int64"
      ]
     },
     "execution_count": 48,
     "metadata": {},
     "output_type": "execute_result"
    }
   ],
   "source": [
    "df['OpSys'].value_counts()"
   ]
  },
  {
   "cell_type": "code",
   "execution_count": 49,
   "id": "e22223dd",
   "metadata": {},
   "outputs": [],
   "source": [
    "df['OpSys'] = df['OpSys'].astype('category')"
   ]
  },
  {
   "cell_type": "code",
   "execution_count": 50,
   "id": "e0d81951",
   "metadata": {},
   "outputs": [
    {
     "name": "stdout",
     "output_type": "stream",
     "text": [
      "<class 'pandas.core.frame.DataFrame'>\n",
      "RangeIndex: 88883 entries, 0 to 88882\n",
      "Data columns (total 20 columns):\n",
      " #   Column                  Non-Null Count  Dtype   \n",
      "---  ------                  --------------  -----   \n",
      " 0   MainBranch              88883 non-null  object  \n",
      " 1   OpenSourcer             88883 non-null  category\n",
      " 2   Country                 88751 non-null  object  \n",
      " 3   CareerSat               72847 non-null  category\n",
      " 4   ResumeUpdate            77877 non-null  category\n",
      " 5   ConvertedComp           55823 non-null  float64 \n",
      " 6   WorkWeekHrs             64503 non-null  float64 \n",
      " 7   WorkLoc                 88883 non-null  category\n",
      " 8   LanguageWorkedWith      87569 non-null  object  \n",
      " 9   LanguageDesireNextYear  84088 non-null  object  \n",
      " 10  DatabaseWorkedWith      76026 non-null  object  \n",
      " 11  DatabaseDesireNextYear  69147 non-null  object  \n",
      " 12  PlatformWorkedWith      80714 non-null  object  \n",
      " 13  PlatformDesireNextYear  77443 non-null  object  \n",
      " 14  WebFrameWorkedWith      65022 non-null  object  \n",
      " 15  WebFrameDesireNextYear  62944 non-null  object  \n",
      " 16  OpSys                   87851 non-null  category\n",
      " 17  SocialMedia             84437 non-null  object  \n",
      " 18  Age                     79210 non-null  float64 \n",
      " 19  Gender                  85406 non-null  object  \n",
      "dtypes: category(5), float64(3), object(12)\n",
      "memory usage: 10.6+ MB\n"
     ]
    }
   ],
   "source": [
    "df.info()"
   ]
  },
  {
   "cell_type": "markdown",
   "id": "b2dd890b",
   "metadata": {},
   "source": [
    "#### As you can see the age column and see that it has float datatype so we need to convert it into the whole number and replacing the  NAN values with 0;"
   ]
  },
  {
   "cell_type": "code",
   "execution_count": 51,
   "id": "1ea0ab5a",
   "metadata": {},
   "outputs": [
    {
     "data": {
      "text/plain": [
       "0     14.0\n",
       "1     19.0\n",
       "2     28.0\n",
       "3     22.0\n",
       "4     30.0\n",
       "5     28.0\n",
       "6     42.0\n",
       "7     24.0\n",
       "8     23.0\n",
       "9      NaN\n",
       "10    22.0\n",
       "11    21.0\n",
       "12    28.0\n",
       "13    31.0\n",
       "14    20.0\n",
       "15    26.0\n",
       "16    29.0\n",
       "17     NaN\n",
       "18    31.0\n",
       "19    38.0\n",
       "Name: Age, dtype: float64"
      ]
     },
     "execution_count": 51,
     "metadata": {},
     "output_type": "execute_result"
    }
   ],
   "source": [
    "df[\"Age\"].head(20)"
   ]
  },
  {
   "cell_type": "code",
   "execution_count": 52,
   "id": "b82fed74",
   "metadata": {},
   "outputs": [],
   "source": [
    "df['Age']= df['Age'].fillna(0).astype(int)"
   ]
  },
  {
   "cell_type": "markdown",
   "id": "f5a92183",
   "metadata": {},
   "source": [
    "<span style =\"color:Green\">Now it is time to convert Gender to Category type as 'Male' or 'Female' and we will take the empty entry as 'Transgender' as they sometimes do not prefer to state their Gender.</span>"
   ]
  },
  {
   "cell_type": "code",
   "execution_count": 53,
   "id": "8ba2d47f",
   "metadata": {},
   "outputs": [
    {
     "data": {
      "text/plain": [
       "Man                                                            77919\n",
       "Woman                                                           6344\n",
       "Non-binary, genderqueer, or gender non-conforming                597\n",
       "Man;Non-binary, genderqueer, or gender non-conforming            181\n",
       "Woman;Non-binary, genderqueer, or gender non-conforming          163\n",
       "Woman;Man                                                        132\n",
       "Woman;Man;Non-binary, genderqueer, or gender non-conforming       70\n",
       "Name: Gender, dtype: int64"
      ]
     },
     "execution_count": 53,
     "metadata": {},
     "output_type": "execute_result"
    }
   ],
   "source": [
    "df[\"Gender\"].value_counts()"
   ]
  },
  {
   "cell_type": "markdown",
   "id": "2c136357",
   "metadata": {},
   "source": [
    "Gender = []\n",
    "for i in df['Gender']:\n",
    "    if (i=='Man') or (i== 'Man;Non-binary, genderqueer, or gender non-conforming'):\n",
    "        Gender.append('Male')\n",
    "    elif (i=='Woman') or (i=='Woman;Non-binary, genderqueer, or gender non-conforming') or (i=='Woman;Man;Non-binary, genderqueer, or gender non-conforming'):\n",
    "        Gender.append('Female')\n",
    "    else:\n",
    "        Gender.append('Transgender')\n",
    "df['Gender'] = Gender\n",
    "df['Gender'] = df['Gender'].astype('category')"
   ]
  },
  {
   "cell_type": "code",
   "execution_count": 54,
   "id": "cff10815",
   "metadata": {},
   "outputs": [],
   "source": [
    "Gender = []\n",
    "for i in df['Gender']:\n",
    "    if (i=='Man') or (i== 'Man;Non-binary, genderqueer, or gender non-conforming'):\n",
    "        Gender.append(\"Male\")\n",
    "    elif (i=='Woman') or (i=='Woman;Non-binary, genderqueer, or gender non-conforming') or (i=='Woman;Man;Non-binary, genderqueer, or gender non-conforming'):\n",
    "        Gender.append('Female')\n",
    "    else:\n",
    "        Gender.append(\"Transgender\")\n",
    "    \n",
    "df['Gender'] = Gender\n",
    "df['Gender'] = df['Gender'].astype('category')"
   ]
  },
  {
   "cell_type": "code",
   "execution_count": 55,
   "id": "91e1780b",
   "metadata": {},
   "outputs": [
    {
     "data": {
      "text/plain": [
       "Male           78100\n",
       "Female          6577\n",
       "Transgender     4206\n",
       "Name: Gender, dtype: int64"
      ]
     },
     "execution_count": 55,
     "metadata": {},
     "output_type": "execute_result"
    }
   ],
   "source": [
    "df[\"Gender\"].value_counts()"
   ]
  },
  {
   "cell_type": "markdown",
   "id": "29279000",
   "metadata": {},
   "source": [
    "### - Count the total numbers of Developers who are contributing to opensource?\n",
    "\n"
   ]
  },
  {
   "cell_type": "code",
   "execution_count": 56,
   "id": "5a89658b",
   "metadata": {},
   "outputs": [],
   "source": [
    "devDetails = df.groupby('MainBranch')['OpenSourcer'].value_counts()\n",
    "devDetails = devDetails.to_frame('Count_of_Developers')\n",
    "devDetails = devDetails.reset_index()\n"
   ]
  },
  {
   "cell_type": "code",
   "execution_count": 57,
   "id": "f37893aa",
   "metadata": {},
   "outputs": [
    {
     "data": {
      "text/html": [
       "<div>\n",
       "<style scoped>\n",
       "    .dataframe tbody tr th:only-of-type {\n",
       "        vertical-align: middle;\n",
       "    }\n",
       "\n",
       "    .dataframe tbody tr th {\n",
       "        vertical-align: top;\n",
       "    }\n",
       "\n",
       "    .dataframe thead th {\n",
       "        text-align: right;\n",
       "    }\n",
       "</style>\n",
       "<table border=\"1\" class=\"dataframe\">\n",
       "  <thead>\n",
       "    <tr style=\"text-align: right;\">\n",
       "      <th></th>\n",
       "      <th>MainBranch</th>\n",
       "      <th>level_1</th>\n",
       "      <th>Count_of_Developers</th>\n",
       "    </tr>\n",
       "  </thead>\n",
       "  <tbody>\n",
       "    <tr>\n",
       "      <th>0</th>\n",
       "      <td>Developer</td>\n",
       "      <td>No</td>\n",
       "      <td>41692</td>\n",
       "    </tr>\n",
       "    <tr>\n",
       "      <th>1</th>\n",
       "      <td>Developer</td>\n",
       "      <td>Yes</td>\n",
       "      <td>23987</td>\n",
       "    </tr>\n",
       "    <tr>\n",
       "      <th>2</th>\n",
       "      <td>Ex_Developer</td>\n",
       "      <td>No</td>\n",
       "      <td>1125</td>\n",
       "    </tr>\n",
       "    <tr>\n",
       "      <th>3</th>\n",
       "      <td>Ex_Developer</td>\n",
       "      <td>Yes</td>\n",
       "      <td>459</td>\n",
       "    </tr>\n",
       "    <tr>\n",
       "      <th>4</th>\n",
       "      <td>Hobby</td>\n",
       "      <td>No</td>\n",
       "      <td>2059</td>\n",
       "    </tr>\n",
       "    <tr>\n",
       "      <th>5</th>\n",
       "      <td>Hobby</td>\n",
       "      <td>Yes</td>\n",
       "      <td>1281</td>\n",
       "    </tr>\n",
       "    <tr>\n",
       "      <th>6</th>\n",
       "      <td>Semi_Developer</td>\n",
       "      <td>No</td>\n",
       "      <td>5005</td>\n",
       "    </tr>\n",
       "    <tr>\n",
       "      <th>7</th>\n",
       "      <td>Semi_Developer</td>\n",
       "      <td>Yes</td>\n",
       "      <td>2534</td>\n",
       "    </tr>\n",
       "    <tr>\n",
       "      <th>8</th>\n",
       "      <td>Student</td>\n",
       "      <td>No</td>\n",
       "      <td>7386</td>\n",
       "    </tr>\n",
       "    <tr>\n",
       "      <th>9</th>\n",
       "      <td>Student</td>\n",
       "      <td>Yes</td>\n",
       "      <td>3355</td>\n",
       "    </tr>\n",
       "  </tbody>\n",
       "</table>\n",
       "</div>"
      ],
      "text/plain": [
       "       MainBranch level_1  Count_of_Developers\n",
       "0       Developer      No                41692\n",
       "1       Developer     Yes                23987\n",
       "2    Ex_Developer      No                 1125\n",
       "3    Ex_Developer     Yes                  459\n",
       "4           Hobby      No                 2059\n",
       "5           Hobby     Yes                 1281\n",
       "6  Semi_Developer      No                 5005\n",
       "7  Semi_Developer     Yes                 2534\n",
       "8         Student      No                 7386\n",
       "9         Student     Yes                 3355"
      ]
     },
     "execution_count": 57,
     "metadata": {},
     "output_type": "execute_result"
    }
   ],
   "source": [
    "## This will return series\n",
    "devDetails\n"
   ]
  },
  {
   "cell_type": "code",
   "execution_count": 58,
   "id": "e3130336",
   "metadata": {},
   "outputs": [],
   "source": [
    "## Reanaming the column name level_1 to OpenSourceContributor\n",
    "devDetails = devDetails.rename(columns={\"level_1\":\"OpenSourceContributor\"})"
   ]
  },
  {
   "cell_type": "code",
   "execution_count": 59,
   "id": "3888d350",
   "metadata": {},
   "outputs": [
    {
     "data": {
      "image/png": "[encoded data removed]",
      "text/plain": [
       "<Figure size 3600x1440 with 1 Axes>"
      ]
     },
     "metadata": {},
     "output_type": "display_data"
    }
   ],
   "source": [
    "sns.set_style('darkgrid')\n",
    "f = plt.figure()\n",
    "f.set_figwidth(50)\n",
    "f.set_figheight(20)\n",
    "sns.set(font_scale=4)\n",
    "sns.barplot(x=\"MainBranch\",y=\"Count_of_Developers\",hue='OpenSourceContributor',data=devDetails,palette=[\"Orange\",\"Purple\"])\n",
    "plt.xticks(rotation=45)\n",
    "plt.show()"
   ]
  },
  {
   "cell_type": "markdown",
   "id": "2c19ed85",
   "metadata": {},
   "source": [
    "<span style =\"color:purple\"><b>CONCLUSION : As it can be seen from the above bar graph that there are two types of people in each category. In the \"Developers section\"(top contributor to opensource) --> 41692 people prefer not to contribue in the open source community and only 23987 developers are only contributing.\n",
    "</b></span>"
   ]
  },
  {
   "cell_type": "markdown",
   "id": "97820d49",
   "metadata": {},
   "source": [
    "### How much money do the Developers get throughout the globe?"
   ]
  },
  {
   "cell_type": "code",
   "execution_count": 107,
   "id": "09caeb3f",
   "metadata": {},
   "outputs": [],
   "source": [
    "num = df['Country'].value_counts()[:25]\n",
    "total = df.groupby('Country')['ConvertedComp'].sum()\n",
    "\n",
    "data_plot1 = (total/num).sort_values(ascending=False)[:25+0]\n",
    "data_plot_geo = (total/num).sort_values(ascending=False)\n",
    "data_plot = data_plot1.reset_index()\n",
    "\n"
   ]
  },
  {
   "cell_type": "code",
   "execution_count": 108,
   "id": "2fa12ba4",
   "metadata": {},
   "outputs": [
    {
     "data": {
      "text/html": [
       "<div>\n",
       "<style scoped>\n",
       "    .dataframe tbody tr th:only-of-type {\n",
       "        vertical-align: middle;\n",
       "    }\n",
       "\n",
       "    .dataframe tbody tr th {\n",
       "        vertical-align: top;\n",
       "    }\n",
       "\n",
       "    .dataframe thead th {\n",
       "        text-align: right;\n",
       "    }\n",
       "</style>\n",
       "<table border=\"1\" class=\"dataframe\">\n",
       "  <thead>\n",
       "    <tr style=\"text-align: right;\">\n",
       "      <th></th>\n",
       "      <th>index</th>\n",
       "      <th>0</th>\n",
       "    </tr>\n",
       "  </thead>\n",
       "  <tbody>\n",
       "    <tr>\n",
       "      <th>0</th>\n",
       "      <td>United States</td>\n",
       "      <td>178454.935319</td>\n",
       "    </tr>\n",
       "    <tr>\n",
       "      <th>1</th>\n",
       "      <td>Switzerland</td>\n",
       "      <td>118648.266871</td>\n",
       "    </tr>\n",
       "    <tr>\n",
       "      <th>2</th>\n",
       "      <td>United Kingdom</td>\n",
       "      <td>116852.048632</td>\n",
       "    </tr>\n",
       "    <tr>\n",
       "      <th>3</th>\n",
       "      <td>Australia</td>\n",
       "      <td>112407.657383</td>\n",
       "    </tr>\n",
       "    <tr>\n",
       "      <th>4</th>\n",
       "      <td>Canada</td>\n",
       "      <td>89095.699853</td>\n",
       "    </tr>\n",
       "  </tbody>\n",
       "</table>\n",
       "</div>"
      ],
      "text/plain": [
       "            index              0\n",
       "0   United States  178454.935319\n",
       "1     Switzerland  118648.266871\n",
       "2  United Kingdom  116852.048632\n",
       "3       Australia  112407.657383\n",
       "4          Canada   89095.699853"
      ]
     },
     "execution_count": 108,
     "metadata": {},
     "output_type": "execute_result"
    }
   ],
   "source": [
    "data_plot.head()"
   ]
  },
  {
   "cell_type": "code",
   "execution_count": 109,
   "id": "1a669462",
   "metadata": {},
   "outputs": [
    {
     "data": {
      "text/html": [
       "<div>\n",
       "<style scoped>\n",
       "    .dataframe tbody tr th:only-of-type {\n",
       "        vertical-align: middle;\n",
       "    }\n",
       "\n",
       "    .dataframe tbody tr th {\n",
       "        vertical-align: top;\n",
       "    }\n",
       "\n",
       "    .dataframe thead th {\n",
       "        text-align: right;\n",
       "    }\n",
       "</style>\n",
       "<table border=\"1\" class=\"dataframe\">\n",
       "  <thead>\n",
       "    <tr style=\"text-align: right;\">\n",
       "      <th></th>\n",
       "      <th>Country</th>\n",
       "      <th>Average_income</th>\n",
       "    </tr>\n",
       "  </thead>\n",
       "  <tbody>\n",
       "    <tr>\n",
       "      <th>0</th>\n",
       "      <td>United States</td>\n",
       "      <td>178454.935319</td>\n",
       "    </tr>\n",
       "    <tr>\n",
       "      <th>1</th>\n",
       "      <td>Switzerland</td>\n",
       "      <td>118648.266871</td>\n",
       "    </tr>\n",
       "    <tr>\n",
       "      <th>2</th>\n",
       "      <td>United Kingdom</td>\n",
       "      <td>116852.048632</td>\n",
       "    </tr>\n",
       "    <tr>\n",
       "      <th>3</th>\n",
       "      <td>Australia</td>\n",
       "      <td>112407.657383</td>\n",
       "    </tr>\n",
       "    <tr>\n",
       "      <th>4</th>\n",
       "      <td>Canada</td>\n",
       "      <td>89095.699853</td>\n",
       "    </tr>\n",
       "  </tbody>\n",
       "</table>\n",
       "</div>"
      ],
      "text/plain": [
       "          Country  Average_income\n",
       "0   United States   178454.935319\n",
       "1     Switzerland   118648.266871\n",
       "2  United Kingdom   116852.048632\n",
       "3       Australia   112407.657383\n",
       "4          Canada    89095.699853"
      ]
     },
     "execution_count": 109,
     "metadata": {},
     "output_type": "execute_result"
    }
   ],
   "source": [
    "\n",
    "data_plot.rename(columns={0:'Average_income','index':'Country'},inplace=True)\n",
    "data_plot.head()\n"
   ]
  },
  {
   "cell_type": "markdown",
   "id": "3ca0676c",
   "metadata": {},
   "source": [
    "Now the columns has been properly renamed"
   ]
  },
  {
   "cell_type": "code",
   "execution_count": 110,
   "id": "24095f76",
   "metadata": {},
   "outputs": [
    {
     "data": {
      "text/plain": [
       "<AxesSubplot:xlabel='Average_income', ylabel='Country'>"
      ]
     },
     "execution_count": 110,
     "metadata": {},
     "output_type": "execute_result"
    },
    {
     "data": {
      "image/png": "[encoded data removed]",
      "text/plain": [
       "<Figure size 3600x2160 with 1 Axes>"
      ]
     },
     "metadata": {},
     "output_type": "display_data"
    }
   ],
   "source": [
    "f = plt.figure()\n",
    "f.set_figwidth(50)\n",
    "f.set_figheight(30)\n",
    "sns.barplot(y='Country',x='Average_income',data = data_plot)"
   ]
  },
  {
   "cell_type": "markdown",
   "id": "c348bead",
   "metadata": {},
   "source": [
    "<B> observation </B>\n",
    "- As it can be seen from the above plot that United states is the leading in the pay to the developers with an average income of $175000"
   ]
  },
  {
   "cell_type": "markdown",
   "id": "5dbbab75",
   "metadata": {},
   "source": [
    "### Let's create a Choropleth map to better visualize the relative responses from various countries."
   ]
  },
  {
   "cell_type": "code",
   "execution_count": 111,
   "id": "9b26df9b",
   "metadata": {},
   "outputs": [],
   "source": [
    "import folium"
   ]
  },
  {
   "cell_type": "code",
   "execution_count": 112,
   "id": "543e08bb",
   "metadata": {},
   "outputs": [],
   "source": [
    "countries_geolocation = 'https://raw.githubusercontent.com/johan/world.geo.json/master/countries.geo.json'"
   ]
  },
  {
   "cell_type": "code",
   "execution_count": 113,
   "id": "17e61031",
   "metadata": {},
   "outputs": [
    {
     "data": {
      "text/html": [
       "<div>\n",
       "<style scoped>\n",
       "    .dataframe tbody tr th:only-of-type {\n",
       "        vertical-align: middle;\n",
       "    }\n",
       "\n",
       "    .dataframe tbody tr th {\n",
       "        vertical-align: top;\n",
       "    }\n",
       "\n",
       "    .dataframe thead th {\n",
       "        text-align: right;\n",
       "    }\n",
       "</style>\n",
       "<table border=\"1\" class=\"dataframe\">\n",
       "  <thead>\n",
       "    <tr style=\"text-align: right;\">\n",
       "      <th></th>\n",
       "      <th>Country</th>\n",
       "      <th>Average_income</th>\n",
       "    </tr>\n",
       "  </thead>\n",
       "  <tbody>\n",
       "    <tr>\n",
       "      <th>0</th>\n",
       "      <td>United States</td>\n",
       "      <td>178454.935319</td>\n",
       "    </tr>\n",
       "    <tr>\n",
       "      <th>1</th>\n",
       "      <td>Switzerland</td>\n",
       "      <td>118648.266871</td>\n",
       "    </tr>\n",
       "    <tr>\n",
       "      <th>2</th>\n",
       "      <td>United Kingdom</td>\n",
       "      <td>116852.048632</td>\n",
       "    </tr>\n",
       "    <tr>\n",
       "      <th>3</th>\n",
       "      <td>Australia</td>\n",
       "      <td>112407.657383</td>\n",
       "    </tr>\n",
       "    <tr>\n",
       "      <th>4</th>\n",
       "      <td>Canada</td>\n",
       "      <td>89095.699853</td>\n",
       "    </tr>\n",
       "    <tr>\n",
       "      <th>...</th>\n",
       "      <td>...</td>\n",
       "      <td>...</td>\n",
       "    </tr>\n",
       "    <tr>\n",
       "      <th>174</th>\n",
       "      <td>Venezuela, Bolivarian Republic of...</td>\n",
       "      <td>NaN</td>\n",
       "    </tr>\n",
       "    <tr>\n",
       "      <th>175</th>\n",
       "      <td>Viet Nam</td>\n",
       "      <td>NaN</td>\n",
       "    </tr>\n",
       "    <tr>\n",
       "      <th>176</th>\n",
       "      <td>Yemen</td>\n",
       "      <td>NaN</td>\n",
       "    </tr>\n",
       "    <tr>\n",
       "      <th>177</th>\n",
       "      <td>Zambia</td>\n",
       "      <td>NaN</td>\n",
       "    </tr>\n",
       "    <tr>\n",
       "      <th>178</th>\n",
       "      <td>Zimbabwe</td>\n",
       "      <td>NaN</td>\n",
       "    </tr>\n",
       "  </tbody>\n",
       "</table>\n",
       "<p>179 rows × 2 columns</p>\n",
       "</div>"
      ],
      "text/plain": [
       "                                  Country  Average_income\n",
       "0                           United States   178454.935319\n",
       "1                             Switzerland   118648.266871\n",
       "2                          United Kingdom   116852.048632\n",
       "3                               Australia   112407.657383\n",
       "4                                  Canada    89095.699853\n",
       "..                                    ...             ...\n",
       "174  Venezuela, Bolivarian Republic of...             NaN\n",
       "175                              Viet Nam             NaN\n",
       "176                                 Yemen             NaN\n",
       "177                                Zambia             NaN\n",
       "178                              Zimbabwe             NaN\n",
       "\n",
       "[179 rows x 2 columns]"
      ]
     },
     "execution_count": 113,
     "metadata": {},
     "output_type": "execute_result"
    }
   ],
   "source": [
    "data_plot_geo1 = data_plot_geo.reset_index()\n",
    "data_plot_geo1.rename(columns={0:'Average_income','index':'Country'},inplace=True)\n",
    "data_plot_geo1"
   ]
  },
  {
   "cell_type": "code",
   "execution_count": 115,
   "id": "943d2359",
   "metadata": {},
   "outputs": [
    {
     "ename": "ValueError",
     "evalue": "Length mismatch: Expected 88883 rows, received array of length 179",
     "output_type": "error",
     "traceback": [
      "\u001b[1;31m---------------------------------------------------------------------------\u001b[0m",
      "\u001b[1;31mValueError\u001b[0m                                Traceback (most recent call last)",
      "\u001b[1;32m~\\AppData\\Local\\Temp/ipykernel_7140/852277707.py\u001b[0m in \u001b[0;36m<module>\u001b[1;34m\u001b[0m\n\u001b[0;32m      1\u001b[0m \u001b[0mm\u001b[0m \u001b[1;33m=\u001b[0m \u001b[0mfolium\u001b[0m\u001b[1;33m.\u001b[0m\u001b[0mMap\u001b[0m\u001b[1;33m(\u001b[0m\u001b[0mlocation\u001b[0m\u001b[1;33m=\u001b[0m\u001b[1;33m[\u001b[0m\u001b[1;36m30\u001b[0m\u001b[1;33m,\u001b[0m \u001b[1;36m0\u001b[0m\u001b[1;33m]\u001b[0m\u001b[1;33m,\u001b[0m \u001b[0mzoom_start\u001b[0m\u001b[1;33m=\u001b[0m\u001b[1;36m2\u001b[0m\u001b[1;33m)\u001b[0m\u001b[1;33m\u001b[0m\u001b[1;33m\u001b[0m\u001b[0m\n\u001b[0;32m      2\u001b[0m \u001b[1;33m\u001b[0m\u001b[0m\n\u001b[1;32m----> 3\u001b[1;33m folium.Choropleth(\n\u001b[0m\u001b[0;32m      4\u001b[0m     \u001b[0mgeo_data\u001b[0m\u001b[1;33m=\u001b[0m\u001b[0mcountries_geolocation\u001b[0m\u001b[1;33m,\u001b[0m\u001b[1;33m\u001b[0m\u001b[1;33m\u001b[0m\u001b[0m\n\u001b[0;32m      5\u001b[0m     \u001b[0mdata\u001b[0m\u001b[1;33m=\u001b[0m\u001b[0mdf\u001b[0m\u001b[1;33m,\u001b[0m\u001b[1;33m\u001b[0m\u001b[1;33m\u001b[0m\u001b[0m\n",
      "\u001b[1;32m~\\anaconda3\\lib\\site-packages\\folium\\features.py\u001b[0m in \u001b[0;36m__init__\u001b[1;34m(self, geo_data, data, columns, key_on, bins, fill_color, nan_fill_color, fill_opacity, nan_fill_opacity, line_color, line_weight, line_opacity, name, legend_name, overlay, control, show, topojson, smooth_factor, highlight, **kwargs)\u001b[0m\n\u001b[0;32m   1199\u001b[0m         \u001b[1;32mif\u001b[0m \u001b[0mhasattr\u001b[0m\u001b[1;33m(\u001b[0m\u001b[0mdata\u001b[0m\u001b[1;33m,\u001b[0m \u001b[1;34m'set_index'\u001b[0m\u001b[1;33m)\u001b[0m\u001b[1;33m:\u001b[0m\u001b[1;33m\u001b[0m\u001b[1;33m\u001b[0m\u001b[0m\n\u001b[0;32m   1200\u001b[0m             \u001b[1;31m# This is a pd.DataFrame\u001b[0m\u001b[1;33m\u001b[0m\u001b[1;33m\u001b[0m\u001b[0m\n\u001b[1;32m-> 1201\u001b[1;33m             \u001b[0mcolor_data\u001b[0m \u001b[1;33m=\u001b[0m \u001b[0mdata\u001b[0m\u001b[1;33m.\u001b[0m\u001b[0mset_index\u001b[0m\u001b[1;33m(\u001b[0m\u001b[0mcolumns\u001b[0m\u001b[1;33m[\u001b[0m\u001b[1;36m0\u001b[0m\u001b[1;33m]\u001b[0m\u001b[1;33m)\u001b[0m\u001b[1;33m[\u001b[0m\u001b[0mcolumns\u001b[0m\u001b[1;33m[\u001b[0m\u001b[1;36m1\u001b[0m\u001b[1;33m]\u001b[0m\u001b[1;33m]\u001b[0m\u001b[1;33m.\u001b[0m\u001b[0mto_dict\u001b[0m\u001b[1;33m(\u001b[0m\u001b[1;33m)\u001b[0m\u001b[1;33m\u001b[0m\u001b[1;33m\u001b[0m\u001b[0m\n\u001b[0m\u001b[0;32m   1202\u001b[0m         \u001b[1;32melif\u001b[0m \u001b[0mhasattr\u001b[0m\u001b[1;33m(\u001b[0m\u001b[0mdata\u001b[0m\u001b[1;33m,\u001b[0m \u001b[1;34m'to_dict'\u001b[0m\u001b[1;33m)\u001b[0m\u001b[1;33m:\u001b[0m\u001b[1;33m\u001b[0m\u001b[1;33m\u001b[0m\u001b[0m\n\u001b[0;32m   1203\u001b[0m             \u001b[1;31m# This is a pd.Series\u001b[0m\u001b[1;33m\u001b[0m\u001b[1;33m\u001b[0m\u001b[0m\n",
      "\u001b[1;32m~\\anaconda3\\lib\\site-packages\\pandas\\util\\_decorators.py\u001b[0m in \u001b[0;36mwrapper\u001b[1;34m(*args, **kwargs)\u001b[0m\n\u001b[0;32m    309\u001b[0m                     \u001b[0mstacklevel\u001b[0m\u001b[1;33m=\u001b[0m\u001b[0mstacklevel\u001b[0m\u001b[1;33m,\u001b[0m\u001b[1;33m\u001b[0m\u001b[1;33m\u001b[0m\u001b[0m\n\u001b[0;32m    310\u001b[0m                 )\n\u001b[1;32m--> 311\u001b[1;33m             \u001b[1;32mreturn\u001b[0m \u001b[0mfunc\u001b[0m\u001b[1;33m(\u001b[0m\u001b[1;33m*\u001b[0m\u001b[0margs\u001b[0m\u001b[1;33m,\u001b[0m \u001b[1;33m**\u001b[0m\u001b[0mkwargs\u001b[0m\u001b[1;33m)\u001b[0m\u001b[1;33m\u001b[0m\u001b[1;33m\u001b[0m\u001b[0m\n\u001b[0m\u001b[0;32m    312\u001b[0m \u001b[1;33m\u001b[0m\u001b[0m\n\u001b[0;32m    313\u001b[0m         \u001b[1;32mreturn\u001b[0m \u001b[0mwrapper\u001b[0m\u001b[1;33m\u001b[0m\u001b[1;33m\u001b[0m\u001b[0m\n",
      "\u001b[1;32m~\\anaconda3\\lib\\site-packages\\pandas\\core\\frame.py\u001b[0m in \u001b[0;36mset_index\u001b[1;34m(self, keys, drop, append, inplace, verify_integrity)\u001b[0m\n\u001b[0;32m   5499\u001b[0m                 \u001b[1;31m# check newest element against length of calling frame, since\u001b[0m\u001b[1;33m\u001b[0m\u001b[1;33m\u001b[0m\u001b[0m\n\u001b[0;32m   5500\u001b[0m                 \u001b[1;31m# ensure_index_from_sequences would not raise for append=False.\u001b[0m\u001b[1;33m\u001b[0m\u001b[1;33m\u001b[0m\u001b[0m\n\u001b[1;32m-> 5501\u001b[1;33m                 raise ValueError(\n\u001b[0m\u001b[0;32m   5502\u001b[0m                     \u001b[1;34mf\"Length mismatch: Expected {len(self)} rows, \"\u001b[0m\u001b[1;33m\u001b[0m\u001b[1;33m\u001b[0m\u001b[0m\n\u001b[0;32m   5503\u001b[0m                     \u001b[1;34mf\"received array of length {len(arrays[-1])}\"\u001b[0m\u001b[1;33m\u001b[0m\u001b[1;33m\u001b[0m\u001b[0m\n",
      "\u001b[1;31mValueError\u001b[0m: Length mismatch: Expected 88883 rows, received array of length 179"
     ]
    }
   ],
   "source": [
    "m = folium.Map(location=[30, 0], zoom_start=2)\n",
    "\n",
    "folium.Choropleth(\n",
    "    geo_data=countries_geolocation,\n",
    "    data=df,\n",
    "    columns=[data_plot_geo1[\"Country\"],data_plot_geo1[\"Average_income\"]],\n",
    "    key_on=\"feature.properties.name\",\n",
    "    threshold_scale=[1, 30, 100, 300, 1_000, 3_000, 10_000, 13_000],\n",
    "    fill_color=\"OrRd\",\n",
    "    fill_opacity=0.7,\n",
    "    line_opacity=0.2,\n",
    "    legend_name=\"Developers\",\n",
    ").add_to(m)\n",
    "\n",
    "m"
   ]
  },
  {
   "cell_type": "markdown",
   "id": "e2440808",
   "metadata": {},
   "source": [
    "### How much are the Developers satisfied with their jobs throughout the globe?\n"
   ]
  },
  {
   "cell_type": "markdown",
   "id": "1652e9ec",
   "metadata": {},
   "source": [
    "Career Satisfaction is depicted by the careerSat attribute.\n",
    "- Lets have visulaisation for the same.\n"
   ]
  },
  {
   "cell_type": "code",
   "execution_count": null,
   "id": "5f6327a4",
   "metadata": {},
   "outputs": [],
   "source": [
    "\n",
    "#Choosing the Developers from the MainBranch attribute\n",
    "data_dev = df[df['MainBranch']=='Developer']\n",
    "data_dev.head()"
   ]
  },
  {
   "cell_type": "markdown",
   "id": "1e525e58",
   "metadata": {},
   "source": [
    "As it can be seen that the dataframe has been categorised according to the \"Developer\""
   ]
  },
  {
   "cell_type": "code",
   "execution_count": null,
   "id": "6985042f",
   "metadata": {},
   "outputs": [],
   "source": [
    "# Counting the developers with various level of satisfaction\n",
    "plot_data=data_dev['CareerSat'].value_counts(normalize= True).mul(100).round(1).reset_index()\n",
    "plot_data.head()"
   ]
  },
  {
   "cell_type": "code",
   "execution_count": null,
   "id": "77e28fc6",
   "metadata": {},
   "outputs": [],
   "source": [
    "## Visualizing the percentage level using the pie chart\n",
    "f = plt.figure()\n",
    "f.set_figwidth(30)\n",
    "f.set_figheight(8)\n",
    "sns.set(font_scale=2)\n",
    "pie_plot = plot_data[\"CareerSat\"]\n",
    "mylabels = [\"Very satisfied\", \"Slightly satisfied\", \"Slightly dissatisfied\", \"Neither satisfied nor dissatisfied\",\"Very dissatisfied\"]\n",
    "explode_label = [0.1,0.1,0.0,0.0,0.0]\n",
    "plt.pie(pie_plot,labels = mylabels,explode = explode_label,autopct='%.1f%%')\n",
    "plt.show()"
   ]
  },
  {
   "cell_type": "markdown",
   "id": "73fd805f",
   "metadata": {},
   "source": [
    "Here we have got the percentage of the developers with the their level of the satisfaction"
   ]
  },
  {
   "cell_type": "code",
   "execution_count": null,
   "id": "aeb1fde6",
   "metadata": {},
   "outputs": [],
   "source": [
    "# PLotting the graph\n",
    "f = plt.figure()\n",
    "sns.set(font_scale=3)\n",
    "f.set_figwidth(40)\n",
    "f.set_figheight(10)\n",
    "plot_data.rename(columns={'index':'Satisfaction level','CareerSat':'Developers count%'},inplace=True)\n",
    "sns.barplot(data=plot_data,x='Developers count%',y='Satisfaction level')\n",
    "plt.show()"
   ]
  },
  {
   "cell_type": "markdown",
   "id": "0bb66b44",
   "metadata": {},
   "source": [
    "<B> Observation </B>"
   ]
  },
  {
   "cell_type": "markdown",
   "id": "7d92ccf6",
   "metadata": {},
   "source": [
    "- More than 40% of the developers are highly satisfied.\n",
    "- About 34% developers are slighlt satisfied.\n",
    "   - Such level of satisfaction indicates that developer role are having [Work-life balance,salary satisfaction,They are having growth opportunities]"
   ]
  },
  {
   "cell_type": "markdown",
   "id": "93a0d44c",
   "metadata": {},
   "source": [
    "- 10% are slightly dissatisfied\n",
    "- 9.6% are in the perplexed situation of Neither satisfied nor dissatisfied\n",
    "- 5.1% developers are highly dissatified. The could be possible reason behind that they might not be getting the proper opportunities , salary and work-life balance"
   ]
  },
  {
   "cell_type": "markdown",
   "id": "99464b10",
   "metadata": {},
   "source": [
    " ### Visualize the distribution of age of the developers?"
   ]
  },
  {
   "cell_type": "markdown",
   "id": "05a8bc88",
   "metadata": {},
   "source": [
    "Since we need to show the distribution of ages of the developers then we need to plot lineplot to depict the continous distribution of the age."
   ]
  },
  {
   "cell_type": "code",
   "execution_count": null,
   "id": "3b122c2c",
   "metadata": {},
   "outputs": [],
   "source": [
    "plot_data_age = data_dev[\"Age\"].value_counts().reset_index()\n",
    "plot_data_age.head()"
   ]
  },
  {
   "cell_type": "markdown",
   "id": "28e1a715",
   "metadata": {},
   "source": [
    "As it can be observed that we can have developers with age 0 so this will definetly not a valid information then we need to drop this row.Also the column name is not matching with the values represented so lets rename it."
   ]
  },
  {
   "cell_type": "code",
   "execution_count": null,
   "id": "de77d1bc",
   "metadata": {},
   "outputs": [],
   "source": [
    "updated_plot_data_age = plot_data_age.iloc[1:]\n",
    "\n",
    "updated_plot_data_age.rename(columns = {\"index\":\"Age(years)\",\"Age\":\"Developers count\"},inplace = True)"
   ]
  },
  {
   "cell_type": "code",
   "execution_count": null,
   "id": "8a368c50",
   "metadata": {},
   "outputs": [],
   "source": [
    "updated_plot_data_age.head()"
   ]
  },
  {
   "cell_type": "markdown",
   "id": "ff3148f0",
   "metadata": {},
   "source": [
    "Well, now the data looks pretty good to have some meaning."
   ]
  },
  {
   "cell_type": "code",
   "execution_count": null,
   "id": "76eb7f64",
   "metadata": {},
   "outputs": [],
   "source": [
    "# Plotting the line plot to depict the age of developers\n",
    "f = plt.figure()\n",
    "f.set_figheight(5)\n",
    "f.set_figwidth(20)\n",
    "sns.set(font_scale=2)\n",
    "sns.lineplot(data=updated_plot_data_age,x=\"Age(years)\",y=\"Developers count\")\n",
    "plt.show()"
   ]
  },
  {
   "cell_type": "markdown",
   "id": "118e1337",
   "metadata": {},
   "source": [
    "<B>Observations</B>\n",
    "- Most of the developers belong to age group mainly between 18 years to 55 years. As during this time developers may be able to\n",
    "go with the industry trend, which includes the new developers as well as the experienced developers.\n",
    "- After the 55 years and before 18 years of age the developers age tends to attain the saturation point, which may be due to there less demand in the industry."
   ]
  },
  {
   "cell_type": "markdown",
   "id": "6aef1181",
   "metadata": {},
   "source": [
    "### What are the social media sites that the developer uses?"
   ]
  },
  {
   "cell_type": "markdown",
   "id": "5c4612b2",
   "metadata": {},
   "source": [
    "Social media plays a important role in the life of a developer. So, lets have a look at which social media sites are much preferred by the developers across the globe"
   ]
  },
  {
   "cell_type": "markdown",
   "id": "0e3a423f",
   "metadata": {},
   "source": [
    "- We can get the information about the social media record using the SocialMedia attribute"
   ]
  },
  {
   "cell_type": "code",
   "execution_count": null,
   "id": "0554890e",
   "metadata": {},
   "outputs": [],
   "source": [
    "# Counting the number of developers according to there use of various social media platforms\n",
    "data_socialMedia = data_dev[\"SocialMedia\"].value_counts().reset_index()\n",
    "data_socialMedia"
   ]
  },
  {
   "cell_type": "markdown",
   "id": "ff27a5e4",
   "metadata": {},
   "source": [
    "As it can be observed that there are atmost 13 social media platforms used by the developers.\n",
    "- But the atrribute name depicted here is not meaningful so lets rename it"
   ]
  },
  {
   "cell_type": "code",
   "execution_count": null,
   "id": "c1c9fd4d",
   "metadata": {},
   "outputs": [],
   "source": [
    "# Renaming the columns of the data_social media\n",
    "data_socialMedia.rename(columns={\"index\":\"SocialMedia Platforms\",\"SocialMedia\":\"Count of the Developers\"},inplace=True)\n",
    "data_socialMedia.head()"
   ]
  },
  {
   "cell_type": "markdown",
   "id": "9575dd6a",
   "metadata": {},
   "source": [
    "Ahmm, now the data looks pretty having meaningful attribute"
   ]
  },
  {
   "cell_type": "code",
   "execution_count": null,
   "id": "dc46cb8c",
   "metadata": {},
   "outputs": [],
   "source": [
    "## Lets visualize the same using a barplot according to the count of the developers\n",
    "f = plt.figure()\n",
    "f.set_figheight(15)\n",
    "f.set_figwidth(40)\n",
    "sns.set(font_scale=3)\n",
    "sns.barplot(data=data_socialMedia,x=\"Count of the Developers\",y=\"SocialMedia Platforms\")"
   ]
  },
  {
   "cell_type": "markdown",
   "id": "f6ac0d2c",
   "metadata": {},
   "source": [
    "<B> Observations </B>\n",
    "- Reddit is the leading social media platforms used by the developers in the industry throughout the globe\n",
    "- Hello is least used social media platform\n",
    "- Reddit, Facebook,WhatsApp,Youtube,Twitter are the top 5 most used social media platform by the developer"
   ]
  },
  {
   "cell_type": "markdown",
   "id": "2654bc87",
   "metadata": {},
   "source": [
    "<B>Reason behind the reddit to be the most preferred social medial platform</B>"
   ]
  },
  {
   "cell_type": "markdown",
   "id": "f911faf4",
   "metadata": {},
   "source": [
    "- Getting rich content with specific topic & queries.\n",
    "- Also, there are small communities in reddit known as sub-reddit communities which opt to bring people & their sharing similar interest together.\n",
    "- Upvotes & Karma will encourage people to gain & share knowledge based content.\n",
    "- People will come to know the hidden abilities of others as well as will realise their own potential to explain & appreciate.\n",
    "- News & Calendar based feature is unique & will keep you sorted about the content & published dates.\n",
    "- The power of community is visible at most in this app, and to initiate a building of community can be also learnt using the reddit app.\n",
    "- Along with individuals & community, businesses also are evenly beneficial through the reddit app. I've explained in short in the remaining answer as follows."
   ]
  },
  {
   "cell_type": "markdown",
   "id": "c50598ba",
   "metadata": {},
   "source": [
    "###  Which is the most popular Operating System among the Developers?"
   ]
  },
  {
   "cell_type": "code",
   "execution_count": null,
   "id": "5c6d68a6",
   "metadata": {},
   "outputs": [],
   "source": [
    "data_oper_sys = data_dev[\"OpSys\"].value_counts(normalize=True).mul(100).round(1).reset_index()\n",
    "data_oper_sys.head()"
   ]
  },
  {
   "cell_type": "markdown",
   "id": "28ddadd3",
   "metadata": {},
   "source": [
    "As it can be observed from the above data that the column name is not meaninful. So we need to rename the columns for better understanding of the data."
   ]
  },
  {
   "cell_type": "code",
   "execution_count": null,
   "id": "2b2477dd",
   "metadata": {},
   "outputs": [],
   "source": [
    "data_oper_sys.rename(columns={\"index\":\"Operating System\",\"OpSys\":\"Developers count(%)\"},inplace= True)\n",
    "data_oper_sys"
   ]
  },
  {
   "cell_type": "markdown",
   "id": "79c43d78",
   "metadata": {},
   "source": [
    "Now, the data looks quite meaningful:\n",
    "- Operating System: Depicts the various types of the operating system used by the developers\n",
    "- Developers count: Depicts the percentage of developers corresponding to each and every operating system."
   ]
  },
  {
   "cell_type": "markdown",
   "id": "09566dd8",
   "metadata": {},
   "source": [
    "<B> Lets visualize the same using the pie plot </B>"
   ]
  },
  {
   "cell_type": "code",
   "execution_count": null,
   "id": "017fc547",
   "metadata": {},
   "outputs": [],
   "source": [
    "## Plotting the graph\n",
    "\n",
    "f = plt.figure()\n",
    "f.set_figheight(8)\n",
    "f.set_figwidth(25)\n",
    "sns.set(font_scale = 2)\n",
    "pie_plot_opsys = data_oper_sys[\"Developers count(%)\"]\n",
    "mylabels = [\"Windows\",\"MacOS\",\"Linux-based\",\"BSD\"]\n",
    "plt.pie(pie_plot_opsys,labels=mylabels,shadow= False,explode=(0.1,0,0,0),autopct='%.1f%%',colors=[\"Brown\",\"Orange\",\"Grey\",\"yellow\"])\n",
    "plt.show()\n"
   ]
  },
  {
   "cell_type": "markdown",
   "id": "db68b28a",
   "metadata": {},
   "source": [
    "<B> Observation</B>\n"
   ]
  },
  {
   "cell_type": "markdown",
   "id": "8f6b7d6b",
   "metadata": {},
   "source": [
    "- About 45 percent of the devleopers are using Windows operating systems(Which is highest).The possible reasons behind the same can be:\n",
    " - Easy User Interface \n",
    " - Cheap \n",
    " - Hardware-Software Compatibility \n",
    "- MacOS is the second most used operating system by the developers and Linux is the third most used.\n",
    "- BSD Os is the least used operating system by the developers i.e 0.1 percent\n"
   ]
  },
  {
   "cell_type": "markdown",
   "id": "6f976828",
   "metadata": {},
   "source": [
    "### Why do most of the Developers update their RESUME frequently and also represent their numbers?"
   ]
  },
  {
   "cell_type": "code",
   "execution_count": null,
   "id": "96b72503",
   "metadata": {},
   "outputs": [],
   "source": [
    "data_resume = data_dev[\"ResumeUpdate\"].value_counts().reset_index()\n",
    "data_resume"
   ]
  },
  {
   "cell_type": "markdown",
   "id": "592d405a",
   "metadata": {},
   "source": [
    "It can be observed from above information that column name is not meaningful so we need to rename the columns"
   ]
  },
  {
   "cell_type": "code",
   "execution_count": null,
   "id": "132b717e",
   "metadata": {},
   "outputs": [],
   "source": [
    "## Renaming the columns\n",
    "data_resume.rename(columns={\"index\":\"Reason\",\"ResumeUpdate\":\"Number of Developers\"},inplace= True)\n",
    "data_resume"
   ]
  },
  {
   "cell_type": "markdown",
   "id": "70f9b850",
   "metadata": {},
   "source": [
    "Lets viualize the same to get better representaion of the data"
   ]
  },
  {
   "cell_type": "code",
   "execution_count": null,
   "id": "8e8b5145",
   "metadata": {},
   "outputs": [],
   "source": [
    "f = plt.figure()\n",
    "f.set_figheight(10)\n",
    "f.set_figwidth(30)\n",
    "sns.set(font_scale=3)\n",
    "sns.barplot(data = data_resume,x=\"Number of Developers\",y=\"Reason\")"
   ]
  },
  {
   "cell_type": "markdown",
   "id": "7fc9bdca",
   "metadata": {},
   "source": [
    "<B> Observation </B>\n",
    "- From the above bar plot we can see that the prominent reason for updating resume was that the candidate(Developer) was in the search of the job i.e >25000\n",
    "- 5578 developers had to update their resume due to the bad experience or having not good interaction with the workforce of the company\n",
    "- 11597 developers updated their resume as they have got the promotions or they were offered with good oportunities.\n",
    "- About 8410 developers updated their resume because they may have been awarded , learnt new skills according the growing trends in the industry.\n",
    "- Very few developers(about 1117) updated their resume while taking re-entry in the workforce"
   ]
  },
  {
   "cell_type": "markdown",
   "id": "65bfa66b",
   "metadata": {},
   "source": [
    "### What are the platforms that the Developers had used extensively and what platforms do they want to use in future?"
   ]
  },
  {
   "cell_type": "code",
   "execution_count": null,
   "id": "06f3b34e",
   "metadata": {},
   "outputs": [],
   "source": [
    "data_dev.head()"
   ]
  },
  {
   "cell_type": "code",
   "execution_count": null,
   "id": "248d6fc3",
   "metadata": {},
   "outputs": [],
   "source": [
    "data_platformWorkedWith = data_dev[\"PlatformWorkedWith\"].value_counts().reset_index()\n",
    "data_platformWorkedWith"
   ]
  },
  {
   "cell_type": "markdown",
   "id": "2b1477c3",
   "metadata": {},
   "source": [
    "The above data attributes(columns) do not represent the meaningful meaning so we need to rename it\n"
   ]
  },
  {
   "cell_type": "code",
   "execution_count": null,
   "id": "af5be9c7",
   "metadata": {},
   "outputs": [],
   "source": [
    "### Renaming the columns\n",
    "data_platformWorkedWith.rename(columns={\"index\":\"PlatformWorkedWith\",\"PlatformWorkedWith\":\"Number of developers\"},inplace=True)\n",
    "data_platformWorkedWith"
   ]
  },
  {
   "cell_type": "markdown",
   "id": "ee87a150",
   "metadata": {},
   "source": [
    "### What are the programming languages that the Developers had worked with and what languages do they want to use in future?"
   ]
  },
  {
   "cell_type": "code",
   "execution_count": null,
   "id": "a572e849",
   "metadata": {},
   "outputs": [],
   "source": []
  }
 ],
 "metadata": {
  "kernelspec": {
   "display_name": "Python 3 (ipykernel)",
   "language": "python",
   "name": "python3"
  },
  "language_info": {
   "codemirror_mode": {
    "name": "ipython",
    "version": 3
   },
   "file_extension": ".py",
   "mimetype": "text/x-python",
   "name": "python",
   "nbconvert_exporter": "python",
   "pygments_lexer": "ipython3",
   "version": "3.9.7"
  }
 },
 "nbformat": 4,
 "nbformat_minor": 5
}
